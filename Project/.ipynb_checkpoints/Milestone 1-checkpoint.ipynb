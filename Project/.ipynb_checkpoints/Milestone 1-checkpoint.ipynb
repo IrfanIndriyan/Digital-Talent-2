{
 "cells": [
  {
   "cell_type": "markdown",
   "metadata": {},
   "source": [
    "<h1><center>Pemilihan Umum Presiden<br><br>Milestone1</center></h1>\n",
    "\n",
    "<center>Group 7</center>\n",
    "<center>(Muhammad Amien Ibrahim, Muhammad Irfan Indriyan, Muhammad Najib Habibullah, Mukti Setyaji, Nofita Ika Utami)</center>\n",
    "\n",
    "------\n",
    "\n",
    "# Deskripsi\n",
    "\n",
    "<div style=\"text-align: justify\">Dalam beberapa bulan kedepan tepatnya pada tanggal 17 April 2019 akan digelar pemilihan umum presiden (pemilu) 2019 di Indonesia. Sebagai Negara demokrasi Indonesia menggelar pemilu setiap 5 tahun sekali. Menurut UU No. 7 Tahun 2017 pemilu adalah sarana kedaulatan rakyat untuk memilih Dewan Perwakilan Rakyat (DPR), anggota Dewan Perwakilan Daerah (DPD), Presiden dan Wakil Presiden, dan untuk memilih Dewan Perwakilan Rakyat Daerah (DPRD), yang dilaksanakan secara langsung, umum, bebas, rahasia, jujur, dan adil dalam Negara Kesatuan Republik Indonesia (NKRI) berdasarkan Pancasila dan Undang-Undang Dasar Negara Republik Indonesia Tahun 1945.</div>\n",
    "<br>\n",
    "<div style=\"text-align: justify\">Pilpres yang telah dilaksanakan sebelumnya telah menuaikan banyak kontroversi dari masing-masing pendukung kandidat. Kontroversi ini banyak berlangsung di dunia maya baik dalam berita maupun media sosial. berita-berita yang disebar diperkirakan memiliki pengaruh yang cukup besar terhadap pendukung pada masing-masing kandidat. Selain itu terdapat sebuah pola yang cukup menarik jika dilihat kandidat pemilu setiap tahunnya jika dilihat pada tabel dibawah:</div>\n",
    "\n",
    "| Tahun | Calon 1 | Calon 2 | Calon 3|\n",
    "|-------|---------|---------|--------|\n",
    "| 2004 | SBY | Megawati | - |\n",
    "|2009 | SBY | Megawati | JK |\n",
    "|2014 | Jokowi | Prabowo | - |\n",
    "| 2019 | Jokowo | Prabowo | - |\n",
    "\n",
    "Berdasarkan tabel diatas diharap akan dapat dilakukan:\n",
    "\n",
    "1. Klasifikasi keberpihakan media terhadap masing-masing kandidat. \n",
    "2. Likelihood kandidat yang akan terpilih.\n",
    "\n",
    "# Dataset\n",
    "\n",
    "## [GDELT 1.0 Event Database](http://data.gdeltproject.org/events/index.html) \n",
    "\n",
    "[GDELT 1.0 Event Database](http://data.gdeltproject.org/events/index.html) merekam lebih dari 300 katagori aktifitas fisik di seluruh penjuru dunia mulai dari kerusuhan dan protes sampa perdamaian dan pertukaran deplomatik. \n",
    "\n",
    "\n",
    "\n",
    "## Additional Dataset\n",
    "\n",
    "1. [GDELT 1.0 Event Database](http://data.gdeltproject.org/events/index.html) Tahun 2004 dan 2009\n",
    "2. [Twitter](http://twitter.com)\n",
    "\n",
    "# Eksplorasi Data\n",
    "\n",
    "Akan diambil sampel data pada tahun 2017 dengan fitur / kolom SQLDATE, EventCode, AvgTone, GoldsteinScale, NumMentions, NumMentions, NumSources, NumArticels, SOURCEURL"
   ]
  },
  {
   "cell_type": "code",
   "execution_count": 1,
   "metadata": {},
   "outputs": [
    {
     "name": "stdout",
     "output_type": "stream",
     "text": [
      "<class 'pandas.core.frame.DataFrame'>\n",
      "RangeIndex: 9250 entries, 0 to 9249\n",
      "Data columns (total 8 columns):\n",
      "SQLDATE           9250 non-null int64\n",
      "EventCode         9250 non-null int64\n",
      "AvgTone           9250 non-null float64\n",
      "GoldsteinScale    9250 non-null float64\n",
      "NumMentions       9250 non-null int64\n",
      "NumSources        9250 non-null int64\n",
      "NumArticles       9250 non-null int64\n",
      "SOURCEURL         9250 non-null object\n",
      "dtypes: float64(2), int64(5), object(1)\n",
      "memory usage: 578.2+ KB\n"
     ]
    }
   ],
   "source": [
    "import pandas as pd\n",
    "\n",
    "pd.set_option(\"display.notebook_repr_html\", True)\n",
    "\n",
    "# def _repr_latex_(self):\n",
    "#     return \"\\centering{%s}\" % self.to_latex()\n",
    "\n",
    "# pd.DataFrame._repr_latex_ = _repr_latex_ \n",
    "\n",
    "tmp_df = pd.read_csv(\"./data/sample.csv\")\n",
    "tmp_df.info()"
   ]
  },
  {
   "cell_type": "code",
   "execution_count": 2,
   "metadata": {},
   "outputs": [
    {
     "data": {
      "text/html": [
       "<div>\n",
       "<style scoped>\n",
       "    .dataframe tbody tr th:only-of-type {\n",
       "        vertical-align: middle;\n",
       "    }\n",
       "\n",
       "    .dataframe tbody tr th {\n",
       "        vertical-align: top;\n",
       "    }\n",
       "\n",
       "    .dataframe thead th {\n",
       "        text-align: right;\n",
       "    }\n",
       "</style>\n",
       "<table border=\"1\" class=\"dataframe\">\n",
       "  <thead>\n",
       "    <tr style=\"text-align: right;\">\n",
       "      <th></th>\n",
       "      <th>SQLDATE</th>\n",
       "      <th>EventCode</th>\n",
       "      <th>AvgTone</th>\n",
       "      <th>GoldsteinScale</th>\n",
       "      <th>NumMentions</th>\n",
       "      <th>NumSources</th>\n",
       "      <th>NumArticles</th>\n",
       "      <th>SOURCEURL</th>\n",
       "    </tr>\n",
       "  </thead>\n",
       "  <tbody>\n",
       "    <tr>\n",
       "      <th>0</th>\n",
       "      <td>20171102</td>\n",
       "      <td>90</td>\n",
       "      <td>1.363636</td>\n",
       "      <td>-2.0</td>\n",
       "      <td>8</td>\n",
       "      <td>1</td>\n",
       "      <td>8</td>\n",
       "      <td>http://lampung.tribunnews.com/2017/11/02/ingin...</td>\n",
       "    </tr>\n",
       "    <tr>\n",
       "      <th>1</th>\n",
       "      <td>20171102</td>\n",
       "      <td>43</td>\n",
       "      <td>0.980392</td>\n",
       "      <td>2.8</td>\n",
       "      <td>10</td>\n",
       "      <td>1</td>\n",
       "      <td>10</td>\n",
       "      <td>http://www.antaranews.com/berita/662317/kemari...</td>\n",
       "    </tr>\n",
       "    <tr>\n",
       "      <th>2</th>\n",
       "      <td>20171102</td>\n",
       "      <td>10</td>\n",
       "      <td>0.956938</td>\n",
       "      <td>0.0</td>\n",
       "      <td>4</td>\n",
       "      <td>1</td>\n",
       "      <td>4</td>\n",
       "      <td>http://wartakota.tribunnews.com/2017/11/02/jok...</td>\n",
       "    </tr>\n",
       "  </tbody>\n",
       "</table>\n",
       "</div>"
      ],
      "text/plain": [
       "    SQLDATE  EventCode   AvgTone  GoldsteinScale  NumMentions  NumSources  \\\n",
       "0  20171102         90  1.363636            -2.0            8           1   \n",
       "1  20171102         43  0.980392             2.8           10           1   \n",
       "2  20171102         10  0.956938             0.0            4           1   \n",
       "\n",
       "   NumArticles                                          SOURCEURL  \n",
       "0            8  http://lampung.tribunnews.com/2017/11/02/ingin...  \n",
       "1           10  http://www.antaranews.com/berita/662317/kemari...  \n",
       "2            4  http://wartakota.tribunnews.com/2017/11/02/jok...  "
      ]
     },
     "execution_count": 2,
     "metadata": {},
     "output_type": "execute_result"
    }
   ],
   "source": [
    "tmp_df.head(3)"
   ]
  },
  {
   "cell_type": "code",
   "execution_count": null,
   "metadata": {},
   "outputs": [],
   "source": [
    "tmp_df[tmp_df[\"SOURCEURL\"].str.contains(\"jokowi\")].describe()"
   ]
  },
  {
   "cell_type": "code",
   "execution_count": null,
   "metadata": {},
   "outputs": [],
   "source": [
    "tmp_df[tmp_df[\"SOURCEURL\"].str.contains(\"prabowo\")].describe()"
   ]
  },
  {
   "cell_type": "code",
   "execution_count": null,
   "metadata": {},
   "outputs": [],
   "source": []
  }
 ],
 "metadata": {
  "kernelspec": {
   "display_name": "Python 3",
   "language": "python",
   "name": "python3"
  },
  "language_info": {
   "codemirror_mode": {
    "name": "ipython",
    "version": 3
   },
   "file_extension": ".py",
   "mimetype": "text/x-python",
   "name": "python",
   "nbconvert_exporter": "python",
   "pygments_lexer": "ipython3",
   "version": "3.7.0"
  }
 },
 "nbformat": 4,
 "nbformat_minor": 2
}
