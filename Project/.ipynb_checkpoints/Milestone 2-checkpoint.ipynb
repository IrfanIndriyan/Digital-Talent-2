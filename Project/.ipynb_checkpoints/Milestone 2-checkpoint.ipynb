{
 "cells": [
  {
   "cell_type": "markdown",
   "metadata": {},
   "source": [
    "<h1><center>Pemilihan Umum Presiden<br><br>Milestone1</center></h1>\n",
    "\n",
    "<center>Group 7</center>\n",
    "<center>(Muhammad Amien Ibrahim, Muhammad Irfan Indriyan, Muhammad Najib Habibullah, Mukti Setyaji, Nofita Ika Utami)</center>\n",
    "\n",
    "------"
   ]
  },
  {
   "cell_type": "markdown",
   "metadata": {},
   "source": [
    "## Data Exploration"
   ]
  },
  {
   "cell_type": "markdown",
   "metadata": {},
   "source": [
    "### Retrieve useful data"
   ]
  },
  {
   "cell_type": "code",
   "execution_count": 4,
   "metadata": {},
   "outputs": [
    {
     "name": "stdout",
     "output_type": "stream",
     "text": [
      "['ID0000.tsv', 'ID0001.tsv', 'ID0002.tsv', 'ID0003.tsv', 'ID0004.tsv']...['ID2143.tsv', 'ID2144.tsv', 'ID2145.tsv', 'ID2146.tsv', 'ID2147.tsv']\n",
      "2148\n"
     ]
    }
   ],
   "source": [
    "import os\n",
    "import pandas as pd\n",
    "import numpy as np\n",
    "from matplotlib import pyplot as plt\n",
    "import seaborn as sns\n",
    "from gdelt_dictionary.gdelt_dict import *\n",
    "\n",
    "# Style\n",
    "#pd.set_option(\"display.notebook_repr_html\", True) \n",
    "\n",
    "data_path = os.path.expanduser(\"~/myGit/DataStore/GDELT-ID/\")\n",
    "files = os.listdir(data_path)\n",
    "files.sort()\n",
    "\n",
    "feature_name = get_feature()\n",
    "\n",
    "print (files[:5], files[-5:], sep=\"...\")\n",
    "print (len(files))"
   ]
  },
  {
   "cell_type": "code",
   "execution_count": 34,
   "metadata": {},
   "outputs": [
    {
     "name": "stderr",
     "output_type": "stream",
     "text": [
      "/Library/Frameworks/Python.framework/Versions/3.7/lib/python3.7/site-packages/IPython/core/interactiveshell.py:3018: DtypeWarning: Columns (14,24) have mixed types. Specify dtype option on import or set low_memory=False.\n",
      "  interactivity=interactivity, compiler=compiler, result=result)\n",
      "/Library/Frameworks/Python.framework/Versions/3.7/lib/python3.7/site-packages/IPython/core/interactiveshell.py:3018: DtypeWarning: Columns (24) have mixed types. Specify dtype option on import or set low_memory=False.\n",
      "  interactivity=interactivity, compiler=compiler, result=result)\n",
      "/Library/Frameworks/Python.framework/Versions/3.7/lib/python3.7/site-packages/IPython/core/interactiveshell.py:3018: DtypeWarning: Columns (21) have mixed types. Specify dtype option on import or set low_memory=False.\n",
      "  interactivity=interactivity, compiler=compiler, result=result)\n",
      "/Library/Frameworks/Python.framework/Versions/3.7/lib/python3.7/site-packages/IPython/core/interactiveshell.py:3018: DtypeWarning: Columns (11,14,21,24) have mixed types. Specify dtype option on import or set low_memory=False.\n",
      "  interactivity=interactivity, compiler=compiler, result=result)\n",
      "/Library/Frameworks/Python.framework/Versions/3.7/lib/python3.7/site-packages/IPython/core/interactiveshell.py:3018: DtypeWarning: Columns (19,24) have mixed types. Specify dtype option on import or set low_memory=False.\n",
      "  interactivity=interactivity, compiler=compiler, result=result)\n",
      "/Library/Frameworks/Python.framework/Versions/3.7/lib/python3.7/site-packages/IPython/core/interactiveshell.py:3018: DtypeWarning: Columns (11) have mixed types. Specify dtype option on import or set low_memory=False.\n",
      "  interactivity=interactivity, compiler=compiler, result=result)\n",
      "/Library/Frameworks/Python.framework/Versions/3.7/lib/python3.7/site-packages/IPython/core/interactiveshell.py:3018: DtypeWarning: Columns (11,21) have mixed types. Specify dtype option on import or set low_memory=False.\n",
      "  interactivity=interactivity, compiler=compiler, result=result)\n"
     ]
    },
    {
     "name": "stdout",
     "output_type": "stream",
     "text": [
      "<class 'pandas.core.frame.DataFrame'>\n",
      "Int64Index: 11101 entries, 0 to 294\n",
      "Data columns (total 59 columns):\n",
      "ActionGeo_ADM1Code       11101 non-null object\n",
      "ActionGeo_CountryCode    11101 non-null object\n",
      "ActionGeo_FeatureID      11101 non-null object\n",
      "ActionGeo_FullName       11101 non-null object\n",
      "ActionGeo_Lat            11101 non-null float64\n",
      "ActionGeo_Long           11101 non-null float64\n",
      "ActionGeo_Type           11101 non-null int64\n",
      "Actor1Code               10163 non-null object\n",
      "Actor1CountryCode        6317 non-null object\n",
      "Actor1EthnicCode         39 non-null object\n",
      "Actor1Geo_ADM1Code       10163 non-null object\n",
      "Actor1Geo_ADM2Code       2720 non-null float64\n",
      "Actor1Geo_CountryCode    10163 non-null object\n",
      "Actor1Geo_FeatureID      7443 non-null object\n",
      "Actor1Geo_FullName       10163 non-null object\n",
      "Actor1Geo_Lat            10163 non-null float64\n",
      "Actor1Geo_Long           10163 non-null object\n",
      "Actor1Geo_Type           11101 non-null float64\n",
      "Actor1KnownGroupCode     176 non-null object\n",
      "Actor1Name               10163 non-null object\n",
      "Actor1Religion1Code      291 non-null object\n",
      "Actor1Religion2Code      20 non-null object\n",
      "Actor1Type1Code          5278 non-null object\n",
      "Actor1Type2Code          251 non-null object\n",
      "Actor1Type3Code          2 non-null object\n",
      "Actor2Code               8945 non-null object\n",
      "Actor2CountryCode        5891 non-null object\n",
      "Actor2EthnicCode         26 non-null object\n",
      "Actor2Geo_ADM1Code       8945 non-null object\n",
      "Actor2Geo_CountryCode    8945 non-null object\n",
      "Actor2Geo_FeatureID      8945 non-null object\n",
      "Actor2Geo_FullName       8945 non-null object\n",
      "Actor2Geo_Lat            8945 non-null float64\n",
      "Actor2Geo_Long           8945 non-null float64\n",
      "Actor2Geo_Type           11101 non-null float64\n",
      "Actor2KnownGroupCode     150 non-null object\n",
      "Actor2Name               8945 non-null object\n",
      "Actor2Religion1Code      274 non-null object\n",
      "Actor2Religion2Code      19 non-null object\n",
      "Actor2Type1Code          4291 non-null object\n",
      "Actor2Type2Code          242 non-null object\n",
      "Actor2Type3Code          6 non-null object\n",
      "AvgTone                  11101 non-null float64\n",
      "DATEADDED                11101 non-null float64\n",
      "EventBaseCode            11101 non-null int64\n",
      "EventCode                11101 non-null int64\n",
      "EventRootCode            11101 non-null int64\n",
      "FractionDate             11101 non-null float64\n",
      "GLOBALEVENTID            11101 non-null int64\n",
      "GoldsteinScale           11101 non-null float64\n",
      "IsRootEvent              11101 non-null int64\n",
      "MonthYear                11101 non-null int64\n",
      "NumArticles              11101 non-null int64\n",
      "NumMentions              11101 non-null int64\n",
      "NumSources               11101 non-null int64\n",
      "QuadClass                11101 non-null int64\n",
      "SOURCEURL                11101 non-null object\n",
      "SQLDATE                  11101 non-null int64\n",
      "Year                     11101 non-null int64\n",
      "dtypes: float64(12), int64(13), object(34)\n",
      "memory usage: 5.1+ MB\n"
     ]
    }
   ],
   "source": [
    "filtered_df = pd.read_csv(data_path + files[0], delimiter='\\t')\n",
    "\n",
    "for file in files[1:]:\n",
    "    tmp_df = pd.read_csv(data_path + file, delimiter='\\t', header=None, \n",
    "                     names=feature_name)\n",
    "    tmp_df[\"SOURCEURL\"] = tmp_df[\"SOURCEURL\"].astype(str)\n",
    "    tmp_df = tmp_df[tmp_df[\"Year\"] == 2017]\n",
    "    tmp_df = tmp_df[tmp_df[\"SOURCEURL\"].str.contains(\"jokowi\", na = False)]\n",
    "    filtered_df = filtered_df.append(tmp_df, ignore_index=False)\n",
    "    \n",
    "    del tmp_df\n",
    "\n",
    "filtered_df.info()"
   ]
  },
  {
   "cell_type": "markdown",
   "metadata": {},
   "source": [
    "### Central Tendency"
   ]
  },
  {
   "cell_type": "markdown",
   "metadata": {},
   "source": [
    "### Measure of spread"
   ]
  },
  {
   "cell_type": "markdown",
   "metadata": {},
   "source": [
    "### Correlation"
   ]
  },
  {
   "cell_type": "markdown",
   "metadata": {},
   "source": [
    "### Data Visualization"
   ]
  }
 ],
 "metadata": {
  "kernelspec": {
   "display_name": "Python 3",
   "language": "python",
   "name": "python3"
  },
  "language_info": {
   "codemirror_mode": {
    "name": "ipython",
    "version": 3
   },
   "file_extension": ".py",
   "mimetype": "text/x-python",
   "name": "python",
   "nbconvert_exporter": "python",
   "pygments_lexer": "ipython3",
   "version": "3.7.0"
  }
 },
 "nbformat": 4,
 "nbformat_minor": 2
}
