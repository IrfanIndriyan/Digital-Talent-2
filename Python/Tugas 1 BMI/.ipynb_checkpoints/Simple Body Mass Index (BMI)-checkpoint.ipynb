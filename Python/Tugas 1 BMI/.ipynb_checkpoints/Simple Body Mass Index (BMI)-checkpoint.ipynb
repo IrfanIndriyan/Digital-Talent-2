{
 "cells": [
  {
   "cell_type": "markdown",
   "metadata": {},
   "source": [
    "# Latihan\n",
    "\n",
    "**Deskripsi**: *Body Mass Index* (*BMI*) menentukan sebuah keidealan berat badan terhadap tinggi badan.<br>\n",
    "Berikut adalah formula untuk dari BMI\n",
    "$$BMI = \\frac{weight (kg)} {height^2 (m^2)}$$\n",
    "\n",
    "Berikut adalah kategorisasi *BMI*\n",
    "\n",
    "| *BMI* | Kategori *BMI* |\n",
    "|-------|----------------|\n",
    "| < 15 | Very severely underweight |\n",
    "| >= 15 && < 16 | Severely underweight |\n",
    "| >= 16 && < 18.5 | Underweight |\n",
    "| >= 18.5 && < 25 | Normal (healthy weight) |\n",
    "| >= 25 && < 30 | Overweight |\n",
    "| >= 30 && < 35 | Moderetely obese |\n",
    "| >= 35 && < 40 | Severely obese |\n",
    "| > 40 | Very severely obese |\n",
    "\n",
    "**Perintah**: Buatlah sebuah program yang memiliki dua variable berat badan dengan satuan KG dan tinggi badan dengan satuan CM. Keluaran dari program adalah Kategori *BMI*\n",
    "\n",
    "\n",
    "------\n",
    "# Answer"
   ]
  },
  {
   "cell_type": "code",
   "execution_count": 2,
   "metadata": {},
   "outputs": [],
   "source": [
    "# import pre-made function\n",
    "from bmi import *"
   ]
  },
  {
   "cell_type": "code",
   "execution_count": 3,
   "metadata": {},
   "outputs": [
    {
     "name": "stdout",
     "output_type": "stream",
     "text": [
      "Weight: 65\n",
      "Height: 168\n"
     ]
    }
   ],
   "source": [
    "# input variable\n",
    "# in this program we assume all input are in KG and CM\n",
    "weight = float(input(\"Weight: \"))\n",
    "height = float(input(\"Height: \")) / 100 # 1 CM = 1 / 100 M"
   ]
  },
  {
   "cell_type": "markdown",
   "metadata": {},
   "source": [
    "The variable we get by using input are in string. to be able to calculate it we need to convert the data type to numbers, in this case float."
   ]
  },
  {
   "cell_type": "code",
   "execution_count": 4,
   "metadata": {},
   "outputs": [
    {
     "name": "stdout",
     "output_type": "stream",
     "text": [
      "65.0 <class 'float'>\n",
      "1.68 <class 'float'>\n"
     ]
    }
   ],
   "source": [
    "print (weight, type(weight))\n",
    "print (height, type(height))"
   ]
  },
  {
   "cell_type": "code",
   "execution_count": 5,
   "metadata": {},
   "outputs": [],
   "source": [
    "# the value then can be calculated by using pre-made function\n",
    "bmi = calculate_bmi(weight=weight, height=height)\n",
    "# and catagorize it by using the pre-made function\n",
    "bmi_catagory = bmi_catagories(bmi)"
   ]
  },
  {
   "cell_type": "markdown",
   "metadata": {},
   "source": [
    "in calculate_bmi we just returning the value of weight and height in $BMI = \\frac{weight (kg)} {height^2 (m^2)}$<br>\n",
    "in bmi_catagories we just returning string value according to the condition that is stated in description\n",
    "\n",
    "**Note**. you can see see what happen in calculate_bmi and bmi_catagories in **bmi.py** or you might use help() instead"
   ]
  },
  {
   "cell_type": "code",
   "execution_count": 6,
   "metadata": {},
   "outputs": [
    {
     "name": "stdout",
     "output_type": "stream",
     "text": [
      "BMI\tBMI Catagory\n",
      "23.03\tNormal (healthy weight)\n"
     ]
    }
   ],
   "source": [
    "# then, we just need to print 'em\n",
    "print (\"BMI\\tBMI Catagory\")\n",
    "print (\"%.2f\" % bmi, bmi_catagory, sep = '\\t')"
   ]
  },
  {
   "cell_type": "markdown",
   "metadata": {},
   "source": [
    "**Note**. All input in this program are considered as weight (KG) and height (CM).\n",
    "\n",
    "**<font color=blue>Hello</font>**. if you happen to see something feels off, something wrong, and etc feel free to inform me\n",
    "\n",
    "```text\n",
    "                                           ***\n",
    "                                          ** **\n",
    "                                         **   **        ****\n",
    "                                         **   **       *** **\n",
    "                                         **   **      *     **\n",
    "                                         **  **      **  ,   **\n",
    "                                          **  *      *  * *   *\n",
    "                                           **  *    *  ** *   *\n",
    "                                            ** **  ** **   ***\n",
    "                                            **   **  **\n",
    "                                           *           *\n",
    "                                          *             *\n",
    "                                         *    $     $    *\n",
    "                                         *       _       *\n",
    "                                         *    \\  |  /   *\n",
    "                                           *   \\/ \\/  *\n",
    "                                             **     **\n",
    "                                               *****\n",
    "                                                ( )\n",
    "                                            Bunny4teen\n",
    "```"
   ]
  }
 ],
 "metadata": {
  "kernelspec": {
   "display_name": "Python 3",
   "language": "python",
   "name": "python3"
  },
  "language_info": {
   "codemirror_mode": {
    "name": "ipython",
    "version": 3
   },
   "file_extension": ".py",
   "mimetype": "text/x-python",
   "name": "python",
   "nbconvert_exporter": "python",
   "pygments_lexer": "ipython3",
   "version": "3.7.0"
  }
 },
 "nbformat": 4,
 "nbformat_minor": 2
}
