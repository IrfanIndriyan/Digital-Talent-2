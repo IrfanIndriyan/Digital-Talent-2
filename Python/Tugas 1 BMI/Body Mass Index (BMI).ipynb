{
 "cells": [
  {
   "cell_type": "markdown",
   "metadata": {},
   "source": [
    "# Latihan\n",
    "\n",
    "**Deskripsi**: *Body Mass Index* (*BMI*) menentukan sebuah keidealan berat badan terhadap tinggi badan.<br>\n",
    "Berikut adalah formula untuk dari BMI\n",
    "$$BMI = \\frac{weight (kg)} {height^2 (m^2)}$$\n",
    "\n",
    "Berikut adalah kategorisasi *BMI*\n",
    "\n",
    "| *BMI* | Kategori *BMI* |\n",
    "|-------|----------------|\n",
    "| < 15 | Very severely underweight |\n",
    "| >= 15 && < 16 | Severely underweight |\n",
    "| >= 16 && < 18.5 | Underweight |\n",
    "| >= 18.5 && < 25 | Normal (healthy weight) |\n",
    "| >= 25 && < 30 | Overweight |\n",
    "| >= 30 && < 35 | Moderetely obese |\n",
    "| >= 35 && < 40 | Severely obese |\n",
    "| > 40 | Very severely obese |\n",
    "\n",
    "**Perintah**: Buatlah sebuah program yang memiliki dua variable berat badan dengan satuan KG dan tinggi badan dengan satuan CM. Keluaran dari program adalah Kategori *BMI*\n",
    "\n",
    "\n",
    "------\n",
    "# Answer"
   ]
  },
  {
   "cell_type": "code",
   "execution_count": 1,
   "metadata": {},
   "outputs": [],
   "source": [
    "# import pre-made function\n",
    "from bmi import *\n",
    "from variable_processing import *"
   ]
  },
  {
   "cell_type": "code",
   "execution_count": 11,
   "metadata": {},
   "outputs": [
    {
     "name": "stdout",
     "output_type": "stream",
     "text": [
      "Weight: 149.914 lbs\n",
      "Height: 168 cm\n"
     ]
    }
   ],
   "source": [
    "# Input variable\n",
    "weight = input(\"Weight: \")\n",
    "height = input(\"Height: \")"
   ]
  },
  {
   "cell_type": "code",
   "execution_count": 13,
   "metadata": {},
   "outputs": [
    {
     "name": "stdout",
     "output_type": "stream",
     "text": [
      "Weight:  149.914 lbs \tType:  <class 'str'>\n",
      "Height:  168 cm \tType:  <class 'str'>\n"
     ]
    }
   ],
   "source": [
    "# The input that we get are in string form\n",
    "print (\"Weight: \", weight, \"\\tType: \", type(weight))\n",
    "print (\"Height: \", height, \"\\tType: \", type(height))"
   ]
  },
  {
   "cell_type": "code",
   "execution_count": 14,
   "metadata": {},
   "outputs": [
    {
     "name": "stdout",
     "output_type": "stream",
     "text": [
      "Weight:  68.0 \tType:  <class 'float'>\n",
      "Height:  1.68 \tType:  <class 'float'>\n"
     ]
    }
   ],
   "source": [
    "# we can't calculate the variable in the way they are\n",
    "# first, we need to convert the lbs and cm unit to kg and m unit\n",
    "# second, we need to convert the variable to either float or int\n",
    "\n",
    "# to do that we're going to use the pre-made function\n",
    "weight = convert(weight)\n",
    "height = convert(height)\n",
    "\n",
    "# so, we get\n",
    "print (\"Weight: \", round(weight, 2), \"\\tType: \", type(weight))\n",
    "print (\"Height: \", round(height, 2), \"\\tType: \", type(height))"
   ]
  },
  {
   "cell_type": "code",
   "execution_count": 16,
   "metadata": {},
   "outputs": [
    {
     "name": "stdout",
     "output_type": "stream",
     "text": [
      "BMI\tBMI Catagory\n",
      "24.09 \tNormal (healthy weight)\n"
     ]
    }
   ],
   "source": [
    "# lastly, we just need to calculate the BMI and catagorize it\n",
    "\n",
    "# to do that we're going to use the pre-made function\n",
    "bmi = calculate_bmi(weight, height)\n",
    "bmi_catagory = bmi_catagories(bmi)\n",
    "\n",
    "print (\"BMI\\tBMI Catagory\")\n",
    "print (round(bmi, 2), bmi_catagory)"
   ]
  },
  {
   "cell_type": "markdown",
   "metadata": {},
   "source": [
    "**<font color=red>WARNING.</fontcolor>** in this code the default input value for weight is KG and height is M, please wait to the next update so the default input value is KG for weight and CM for height."
   ]
  }
 ],
 "metadata": {
  "kernelspec": {
   "display_name": "Python 3",
   "language": "python",
   "name": "python3"
  },
  "language_info": {
   "codemirror_mode": {
    "name": "ipython",
    "version": 3
   },
   "file_extension": ".py",
   "mimetype": "text/x-python",
   "name": "python",
   "nbconvert_exporter": "python",
   "pygments_lexer": "ipython3",
   "version": "3.7.0"
  }
 },
 "nbformat": 4,
 "nbformat_minor": 2
}
