{
 "cells": [
  {
   "cell_type": "markdown",
   "metadata": {},
   "source": [
    "# Tugas 2 - Tugas List Nilai\n",
    "\n",
    "Diberikan sekumpulan Nilai Random antara 0 sampai dengan 100 sebanyak 250 nilai. Buatlah program untuk melakukan hal berikut:\n",
    "1. Tampilkan Angka Ganjil dari ke 250 nilai tersebut\n",
    "2. Tampilkan berapa banyak yang mendapatkan nilai lebih dari 70\n",
    "3. Tampilkan standar deviasi dari sekumpulan nilai tersebut\n",
    "4. Tampilkan nilai maksimum dan minimum\n",
    "5. Tampilkan modus dari sekumpulan nilai tersebut\n",
    "\n",
    "**Note**. In this task, it is **PROBIHITED** to use a build-in function and other module / package.\n",
    "\n",
    "------\n",
    "### Answer"
   ]
  },
  {
   "cell_type": "markdown",
   "metadata": {},
   "source": [
    "In this task we made our own function in *basic.py*:\n",
    "* standard_deviasi(sequence_of_numbers)\n",
    "* rata_rata(sequence_of_numbers)\n",
    "* count(sequence_of_numbers)\n",
    "* max_min(sequence_of_numbers)\n",
    "* mode_with_list(sequence_of_numbers)\n",
    "* mode_with_dict(sequence_of_numbers)\n",
    "* unique(sequence_of_numbers)\n",
    "* find_index(number, sequence_of_numbers)\n",
    "* indexing(start, end)\n",
    "\n",
    "in order to check our result, in this notebook we are going to use other package such as Numpy and Scipy.\n",
    "\n",
    "**Note**. For more detail information of the function we made, please check out *basic.py* or you can use help() instead.\n",
    "\n",
    "**Work on**.\n",
    "\n",
    "Shall we,"
   ]
  },
  {
   "cell_type": "code",
   "execution_count": 73,
   "metadata": {},
   "outputs": [
    {
     "name": "stdout",
     "output_type": "stream",
     "text": [
      "[25, 49, 61, 68, 56, 29, 92, 37, 67, 56, 41, 35, 6, 98, 74, 56, 56, 98, 69, 91, 25, 68, 22, 39, 13, 95, 53, 37, 95, 22, 69, 31, 56, 88, 37, 99, 22, 72, 31, 25, 36, 95, 24, 69, 11, 16, 54, 3, 60, 10, 91, 35, 31, 86, 47, 65, 35, 15, 77, 12, 51, 46, 85, 33, 78, 91, 67, 11, 6, 68, 84, 31, 93, 27, 13, 51, 30, 64, 10, 8, 24, 92, 41, 77, 53, 2, 25, 27, 3, 70, 26, 23, 3, 28, 38, 62, 1, 8, 37, 73, 91, 96, 18, 56, 43, 14, 44, 66, 71, 29, 10, 15, 85, 98, 8, 83, 40, 80, 93, 98, 50, 65, 53, 78, 48, 63, 94, 76, 18, 46, 35, 33, 97, 1, 76, 53, 98, 43, 30, 49, 96, 47, 47, 2, 23, 43, 55, 37, 96, 31, 13, 58, 42, 20, 64, 2, 50, 92, 19, 92, 88, 23, 70, 53, 41, 78, 86, 74, 16, 55, 18, 72, 21, 8, 47, 58, 7, 34, 77, 77, 1, 19, 18, 22, 34, 65, 18, 70, 26, 83, 22, 46, 25, 71, 58, 37, 74, 76, 35, 20, 39, 18, 72, 95, 31, 92, 11, 93, 67, 87, 75, 60, 51, 37, 90, 71, 58, 88, 39, 98, 51, 11, 4, 2, 99, 57, 47, 87, 81, 13, 41, 80, 86, 35, 85, 39, 36, 93, 61, 3, 62, 39, 31, 64, 48, 76, 56, 17, 69, 74]\n"
     ]
    }
   ],
   "source": [
    "# This code are part of the question\n",
    "import random\n",
    "\n",
    "# GENERATE RANDOM\n",
    "nilaiTugas = []\n",
    "for i in range(250):\n",
    "    nilaiTugas.append(random.randrange(1,100,1))\n",
    "\n",
    "print(nilaiTugas)"
   ]
  },
  {
   "cell_type": "markdown",
   "metadata": {},
   "source": [
    "------"
   ]
  },
  {
   "cell_type": "code",
   "execution_count": 64,
   "metadata": {},
   "outputs": [
    {
     "name": "stdout",
     "output_type": "stream",
     "text": [
      "Nilai ganjil:\n",
      " [81, 65, 95, 31, 21, 23, 81, 75, 67, 9, 71, 43, 5, 5, 23, 57, 65, 39, 15, 83, 81, 77, 77, 83, 21, 87, 71, 7, 61, 33, 83, 69, 21, 81, 91, 15, 71, 7, 59, 33, 7, 23, 79, 83, 33, 81, 43, 57, 59, 33, 19, 39, 29, 57, 59, 73, 73, 51, 55, 47, 49, 27, 37, 39, 11, 7, 19, 67, 51, 81, 59, 39, 93, 71, 59, 55, 61, 39, 59, 43, 1, 69, 13, 39, 51, 49, 49, 21, 43, 33, 99, 61, 95, 59, 93, 39, 93, 3, 57, 83, 43, 79, 95, 25, 83, 23, 5, 27, 43, 81, 43, 5, 27, 69, 73, 11, 35, 15, 17, 1, 15, 55, 33, 43, 25, 41, 1, 37, 67, 87, 19, 35, 37]\n"
     ]
    }
   ],
   "source": [
    "# Firtst is we import the pre-made function that you can find in basic.py\n",
    "from basic import *\n",
    "\n",
    "# Variable to store result\n",
    "nilai_ganjil = []\n",
    "nilai_70 = 0\n",
    "\n",
    "for i in nilaiTugas:\n",
    "    # 1. Tampilkan Angka Ganjil dari ke 250 nilai tersebut\n",
    "    if i % 2 == 1:\n",
    "        nilai_ganjil.append(i)\n",
    "    \n",
    "    # 2. Tampilkan berapa banyak yang mendapatkan nilai lebih dari 70\n",
    "    if i > 70:\n",
    "        nilai_70 += 1\n",
    "\n",
    "print (\"Nilai ganjil:\\n\", nilai_ganjil)"
   ]
  },
  {
   "cell_type": "code",
   "execution_count": 65,
   "metadata": {},
   "outputs": [
    {
     "name": "stdout",
     "output_type": "stream",
     "text": [
      "Jumlah nilai yang lebih dari 70:  67\n"
     ]
    }
   ],
   "source": [
    "print (\"Jumlah nilai yang lebih dari 70: \", nilai_70)"
   ]
  },
  {
   "cell_type": "markdown",
   "metadata": {},
   "source": [
    "------"
   ]
  },
  {
   "cell_type": "markdown",
   "metadata": {},
   "source": [
    "From this point we're going to compare the result between ourown result with Numpy and Scipy result. So, we can trust the result of ourown function."
   ]
  },
  {
   "cell_type": "code",
   "execution_count": 66,
   "metadata": {},
   "outputs": [
    {
     "name": "stdout",
     "output_type": "stream",
     "text": [
      "<class 'numpy.ndarray'>\n",
      "[32 81 76 58 65  2 96 95 31 21 23 96 81 75 67 30  9 46 71 32 43  5  5 23\n",
      " 34 57 65 39 15 46 83 81 77 77 18 83 86 21 87 32 71  7 61 58 18 66 33 83\n",
      "  8 69 21 20 92 10 22 81 91 15 71  7 38 32 72 28 59 38 33  7 28 32 23 22\n",
      " 76 40 36 79 82 83 33 81 43 57 90 92 46 59 58 10 33 19 66 39 29 64 57 59\n",
      " 16 73 70 76 28 73 51 55 34 12 84 47 49 92 27 92 37 39 11  7 19 74 67 51\n",
      " 78 81 96 26 84  8 34 60 59 30 39 16 56 36 93 71 14 62 62 59 55 61 46 52\n",
      " 58 39 59 98 74 43 14  1 66 69 13 28 39 22 51 49 49 21 43 33 52 54 99 56\n",
      " 61 80 95 72 58 59 32 76 93 30 10 39 93  3 26 50 57 50 83 94 48 54 68 43\n",
      " 66 79 52 95 25 83 84 23  5 27 43 81 43  5 27 94 69 73 24 26 10 11 82 35\n",
      " 44 15 17  1 15 40 90 55 33 43 30 28 22 25 16 41  1 40 16 37 66 67 87 98\n",
      " 19 76 90 20 38 35 88 50 37 62]\n"
     ]
    }
   ],
   "source": [
    "# Import numpy\n",
    "import numpy as np\n",
    "\n",
    "# Create numpy array\n",
    "np_nilaiTugas = np.array(nilaiTugas)\n",
    "\n",
    "print (type(np_nilaiTugas))\n",
    "print (np_nilaiTugas)"
   ]
  },
  {
   "cell_type": "code",
   "execution_count": 67,
   "metadata": {},
   "outputs": [
    {
     "name": "stdout",
     "output_type": "stream",
     "text": [
      "26.8012802679275\n"
     ]
    }
   ],
   "source": [
    "st_dev = standard_deviasi(nilaiTugas)\n",
    "np_st_dev = np_nilaiTugas.std()\n",
    "\n",
    "print (st_dev)"
   ]
  },
  {
   "cell_type": "code",
   "execution_count": 68,
   "metadata": {},
   "outputs": [
    {
     "name": "stdout",
     "output_type": "stream",
     "text": [
      "26.801280267927503\n"
     ]
    }
   ],
   "source": [
    "print (np_st_dev)"
   ]
  },
  {
   "cell_type": "code",
   "execution_count": 69,
   "metadata": {},
   "outputs": [
    {
     "name": "stdout",
     "output_type": "stream",
     "text": [
      "Max:  99 \tMin:  1\n"
     ]
    }
   ],
   "source": [
    "m_ax, m_in = max_min(nilaiTugas)\n",
    "np_m_ax, np_m_in = np_nilaiTugas.max(), np_nilaiTugas.min()\n",
    "\n",
    "print (\"Max: \", m_ax, \"\\tMin: \", m_in)"
   ]
  },
  {
   "cell_type": "code",
   "execution_count": 70,
   "metadata": {},
   "outputs": [
    {
     "name": "stdout",
     "output_type": "stream",
     "text": [
      "Max:  99 \tMin:  1\n"
     ]
    }
   ],
   "source": [
    "print (\"Max: \", np_m_ax, \"\\tMin: \", np_m_in)"
   ]
  },
  {
   "cell_type": "code",
   "execution_count": 71,
   "metadata": {},
   "outputs": [
    {
     "name": "stdout",
     "output_type": "stream",
     "text": [
      "Modus 43\n",
      "Modue(dict) 43\n"
     ]
    }
   ],
   "source": [
    "from scipy import stats\n",
    "\n",
    "mode = mode_with_list(nilaiTugas)\n",
    "np_mode = stats.mode(np_nilaiTugas)\n",
    "mode_dict = mode_with_dict(nilaiTugas)\n",
    "\n",
    "print (\"Modus\", mode)\n",
    "print (\"Modue(dict)\", mode_dict)"
   ]
  },
  {
   "cell_type": "code",
   "execution_count": 72,
   "metadata": {},
   "outputs": [
    {
     "name": "stdout",
     "output_type": "stream",
     "text": [
      "ModeResult(mode=array([43]), count=array([8]))\n"
     ]
    }
   ],
   "source": [
    "print (np_mode)"
   ]
  }
 ],
 "metadata": {
  "kernelspec": {
   "display_name": "Python 3",
   "language": "python",
   "name": "python3"
  },
  "language_info": {
   "codemirror_mode": {
    "name": "ipython",
    "version": 3
   },
   "file_extension": ".py",
   "mimetype": "text/x-python",
   "name": "python",
   "nbconvert_exporter": "python",
   "pygments_lexer": "ipython3",
   "version": "3.7.0"
  }
 },
 "nbformat": 4,
 "nbformat_minor": 2
}
