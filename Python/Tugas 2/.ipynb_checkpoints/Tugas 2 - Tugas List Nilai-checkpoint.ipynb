{
 "cells": [
  {
   "cell_type": "markdown",
   "metadata": {},
   "source": [
    "# Tugas 2 - Tugas List Nilai\n",
    "\n",
    "Diberikan sekumpulan Nilai Random antara 0 sampai dengan 100 sebanyak 250 nilai. Buatlah program untuk melakukan hal berikut:\n",
    "1. Tampilkan Angka Ganjil dari ke 250 nilai tersebut\n",
    "2. Tampilkan berapa banyak yang mendapatkan nilai lebih dari 70\n",
    "3. Tampilkan standar deviasi dari sekumpulan nilai tersebut\n",
    "4. Tampilkan nilai maksimum dan minimum\n",
    "5. Tampilkan modus dari sekumpulan nilai tersebut\n",
    "\n",
    "**Note**. In this task, it is **PROBIHITED** to use a build in functio. so, in this task we try to minimize the use of built in function and other package / library\n",
    "\n",
    "------\n",
    "### Answer"
   ]
  },
  {
   "cell_type": "markdown",
   "metadata": {},
   "source": [
    "In this task we made our own function in *basic.py*, thanks to that we have this function ready to use:\n",
    "* standard_deviasi(sequence_of_numbers)\n",
    "* rata_rata(sequence_of_numbers)\n",
    "* count(sequence_of_numbers)\n",
    "* max_min(sequence_of_numbers)\n",
    "* modus(sequence_of_numbers)\n",
    "    \n",
    "In this task we try our best to not use any kind of function, but there is still some function that we use:\n",
    "* append()\n",
    "* range()\n",
    "* list()\n",
    "* set()\n",
    "\n",
    "so, we're going to explain every single thing \"hope so\" and compare our result with a result that Numpy gave.\n",
    "\n",
    "**Note**. We are trying to make our own function to get a unique value from a list to replace the list() and set() function\n",
    "\n",
    "Shall we,"
   ]
  },
  {
   "cell_type": "code",
   "execution_count": 1,
   "metadata": {},
   "outputs": [
    {
     "name": "stdout",
     "output_type": "stream",
     "text": [
      "[99, 4, 85, 56, 99, 55, 70, 33, 2, 55, 34, 94, 60, 88, 39, 53, 44, 50, 9, 90, 49, 6, 28, 98, 67, 33, 57, 7, 44, 26, 32, 37, 22, 8, 3, 62, 3, 57, 38, 16, 20, 36, 68, 7, 44, 79, 90, 5, 55, 1, 61, 72, 62, 4, 63, 96, 3, 13, 5, 81, 65, 8, 41, 49, 39, 48, 11, 45, 64, 41, 30, 41, 7, 60, 18, 69, 95, 59, 47, 12, 63, 22, 40, 70, 37, 43, 70, 39, 22, 99, 64, 11, 44, 38, 52, 89, 10, 18, 97, 93, 54, 29, 78, 58, 92, 79, 81, 17, 51, 94, 8, 73, 35, 42, 13, 11, 28, 88, 69, 28, 40, 46, 63, 88, 88, 19, 79, 6, 86, 43, 80, 26, 11, 86, 44, 22, 61, 26, 37, 29, 44, 80, 23, 77, 76, 51, 42, 51, 4, 73, 26, 14, 17, 39, 81, 94, 56, 58, 70, 64, 93, 57, 44, 59, 68, 43, 91, 88, 43, 6, 77, 83, 28, 87, 82, 26, 81, 14, 48, 37, 63, 50, 28, 24, 12, 16, 58, 85, 77, 89, 55, 67, 59, 87, 38, 36, 46, 78, 26, 30, 55, 19, 96, 8, 67, 13, 69, 51, 32, 45, 86, 11, 6, 71, 68, 8, 29, 50, 82, 74, 73, 96, 42, 41, 86, 95, 60, 89, 94, 87, 38, 19, 35, 59, 46, 43, 23, 74, 3, 50, 75, 84, 34, 30, 26, 80, 40, 47, 80, 46]\n"
     ]
    }
   ],
   "source": [
    "import random\n",
    "\n",
    "# GENERATE RANDOM\n",
    "nilaiTugas = []\n",
    "for i in range(250):\n",
    "    nilaiTugas.append(random.randrange(1,100,1))\n",
    "\n",
    "print(nilaiTugas)"
   ]
  },
  {
   "cell_type": "code",
   "execution_count": 2,
   "metadata": {},
   "outputs": [
    {
     "name": "stdout",
     "output_type": "stream",
     "text": [
      "Nilai ganjil:\n",
      " [99, 85, 99, 55, 33, 55, 39, 53, 9, 49, 67, 33, 57, 7, 37, 3, 3, 57, 7, 79, 5, 55, 1, 61, 63, 3, 13, 5, 81, 65, 41, 49, 39, 11, 45, 41, 41, 7, 69, 95, 59, 47, 63, 37, 43, 39, 99, 11, 89, 97, 93, 29, 79, 81, 17, 51, 73, 35, 13, 11, 69, 63, 19, 79, 43, 11, 61, 37, 29, 23, 77, 51, 51, 73, 17, 39, 81, 93, 57, 59, 43, 91, 43, 77, 83, 87, 81, 37, 63, 85, 77, 89, 55, 67, 59, 87, 55, 19, 67, 13, 69, 51, 45, 11, 71, 29, 73, 41, 95, 89, 87, 19, 35, 59, 43, 23, 3, 75, 47]\n"
     ]
    }
   ],
   "source": [
    "# Firtst is we import the pre-made function that you can find in basic.py\n",
    "from basic import *\n",
    "\n",
    "nilai_ganjil = []\n",
    "nilai_70 = 0\n",
    "\n",
    "for i in nilaiTugas:\n",
    "    # 1. Tampilkan Angka Ganjil dari ke 250 nilai tersebut\n",
    "    if i % 2 == 1:\n",
    "        nilai_ganjil.append(i)\n",
    "    \n",
    "    # 2. Tampilkan berapa banyak yang mendapatkan nilai lebih dari 70\n",
    "    if i > 70:\n",
    "        nilai_70 += 1\n",
    "\n",
    "print (\"Nilai ganjil:\\n\", nilai_ganjil)"
   ]
  },
  {
   "cell_type": "code",
   "execution_count": 4,
   "metadata": {},
   "outputs": [
    {
     "name": "stdout",
     "output_type": "stream",
     "text": [
      "Jumlah nilai yang lebih dari 70:  66\n"
     ]
    }
   ],
   "source": [
    "print (\"Jumlah nilai yang lebih dari 70: \", nilai_70)"
   ]
  },
  {
   "cell_type": "markdown",
   "metadata": {},
   "source": [
    "From this point we're going to compare the result between ourown result with numpy result."
   ]
  },
  {
   "cell_type": "code",
   "execution_count": 5,
   "metadata": {},
   "outputs": [
    {
     "name": "stdout",
     "output_type": "stream",
     "text": [
      "<class 'numpy.ndarray'>\n",
      "[99  4 85 56 99 55 70 33  2 55 34 94 60 88 39 53 44 50  9 90 49  6 28 98\n",
      " 67 33 57  7 44 26 32 37 22  8  3 62  3 57 38 16 20 36 68  7 44 79 90  5\n",
      " 55  1 61 72 62  4 63 96  3 13  5 81 65  8 41 49 39 48 11 45 64 41 30 41\n",
      "  7 60 18 69 95 59 47 12 63 22 40 70 37 43 70 39 22 99 64 11 44 38 52 89\n",
      " 10 18 97 93 54 29 78 58 92 79 81 17 51 94  8 73 35 42 13 11 28 88 69 28\n",
      " 40 46 63 88 88 19 79  6 86 43 80 26 11 86 44 22 61 26 37 29 44 80 23 77\n",
      " 76 51 42 51  4 73 26 14 17 39 81 94 56 58 70 64 93 57 44 59 68 43 91 88\n",
      " 43  6 77 83 28 87 82 26 81 14 48 37 63 50 28 24 12 16 58 85 77 89 55 67\n",
      " 59 87 38 36 46 78 26 30 55 19 96  8 67 13 69 51 32 45 86 11  6 71 68  8\n",
      " 29 50 82 74 73 96 42 41 86 95 60 89 94 87 38 19 35 59 46 43 23 74  3 50\n",
      " 75 84 34 30 26 80 40 47 80 46]\n"
     ]
    }
   ],
   "source": [
    "# Import numpy\n",
    "import numpy as np\n",
    "\n",
    "# Create numpy array\n",
    "np_nilaiTugas = np.array(nilaiTugas)\n",
    "\n",
    "print (type(np_nilaiTugas))\n",
    "print (np_nilaiTugas)"
   ]
  },
  {
   "cell_type": "code",
   "execution_count": 6,
   "metadata": {},
   "outputs": [
    {
     "name": "stdout",
     "output_type": "stream",
     "text": [
      "27.659781344038127\n"
     ]
    }
   ],
   "source": [
    "st_dev = standard_deviasi(nilaiTugas)\n",
    "np_st_dev = np_nilaiTugas.std()\n",
    "\n",
    "print (st_dev)"
   ]
  },
  {
   "cell_type": "code",
   "execution_count": 7,
   "metadata": {},
   "outputs": [
    {
     "name": "stdout",
     "output_type": "stream",
     "text": [
      "27.659781344038134\n"
     ]
    }
   ],
   "source": [
    "print (np_st_dev)"
   ]
  },
  {
   "cell_type": "code",
   "execution_count": 8,
   "metadata": {},
   "outputs": [
    {
     "name": "stdout",
     "output_type": "stream",
     "text": [
      "Max:  99 \tMin:  1\n"
     ]
    }
   ],
   "source": [
    "m_ax, m_in = max_min(nilaiTugas)\n",
    "np_m_ax, np_m_in = np_nilaiTugas.max(), np_nilaiTugas.min()\n",
    "\n",
    "print (\"Max: \", m_ax, \"\\tMin: \", m_in)"
   ]
  },
  {
   "cell_type": "code",
   "execution_count": 9,
   "metadata": {},
   "outputs": [
    {
     "name": "stdout",
     "output_type": "stream",
     "text": [
      "Max:  99 \tMin:  1\n"
     ]
    }
   ],
   "source": [
    "print (\"Max: \", np_m_ax, \"\\tMin: \", np_m_in)"
   ]
  },
  {
   "cell_type": "code",
   "execution_count": 16,
   "metadata": {},
   "outputs": [
    {
     "name": "stdout",
     "output_type": "stream",
     "text": [
      "Modus 26\n"
     ]
    }
   ],
   "source": [
    "from scipy import stats\n",
    "\n",
    "mode = modus(nilaiTugas)\n",
    "np_mode = stats.mode(np_nilaiTugas)\n",
    "\n",
    "print (\"Modus\", mode)"
   ]
  },
  {
   "cell_type": "code",
   "execution_count": 17,
   "metadata": {},
   "outputs": [
    {
     "name": "stdout",
     "output_type": "stream",
     "text": [
      "ModeResult(mode=array([26]), count=array([7]))\n"
     ]
    }
   ],
   "source": [
    "print (np_mode)"
   ]
  },
  {
   "cell_type": "code",
   "execution_count": null,
   "metadata": {},
   "outputs": [],
   "source": []
  }
 ],
 "metadata": {
  "kernelspec": {
   "display_name": "Python 3",
   "language": "python",
   "name": "python3"
  },
  "language_info": {
   "codemirror_mode": {
    "name": "ipython",
    "version": 3
   },
   "file_extension": ".py",
   "mimetype": "text/x-python",
   "name": "python",
   "nbconvert_exporter": "python",
   "pygments_lexer": "ipython3",
   "version": "3.7.0"
  }
 },
 "nbformat": 4,
 "nbformat_minor": 2
}
