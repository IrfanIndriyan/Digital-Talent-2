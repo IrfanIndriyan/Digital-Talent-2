{
 "cells": [
  {
   "cell_type": "markdown",
   "metadata": {},
   "source": [
    "# LATIHAN 3 - Word Count\n",
    "\n",
    "Diberikan sebuah paragraf, hitunglah banyak kemunculan masing-masing kata. Contoh : \"Presiden pagi ini melakukan kunjungan ke Jogja\"\n",
    "* presiden: 1\n",
    "* pagi: 1\n",
    "* ini: 1\n",
    "* melakukan: 1\n",
    "* kunjungan: 1\n",
    "* ke: 1\n",
    "* jogja: 1\n",
    "\n",
    "**hints**: Gunakan Dictionary dalam menyimpan word count. Gunakan kata sebagai key, dan jumlah kemunculan sebagai value\n",
    "\n",
    "**Note**. In this task, it is **PROBIHITED** to use a build in function. so, in this task we try to minimize the use of built in function and other package / library\n",
    "\n",
    "------\n",
    "### Answer"
   ]
  },
  {
   "cell_type": "markdown",
   "metadata": {},
   "source": [
    "In this task we made our own function in *preprocessing.py*, thanks to that we have this function ready to use:\n",
    "* word_count(words)\n",
    "    \n",
    "In this task we try our best to not use any kind of function, but there is still some function that we use:\n",
    "* append()\n",
    "* lower()\n",
    "* split()\n",
    "* replace()\n",
    "* del()\n",
    "* index()\n",
    "\n",
    "so, we're going to explain every single thing \"hope so\" and compare our result with a result that Scikit-Learn gave.\n",
    "\n",
    "**Note**. We are trying to make our own function to delete some value from a list to replace the del() and index() function. this kind of operation can be found in Numpy by using index() to get all index for every value.\n",
    "\n",
    "Shall we,"
   ]
  },
  {
   "cell_type": "code",
   "execution_count": 1,
   "metadata": {},
   "outputs": [
    {
     "name": "stdout",
     "output_type": "stream",
     "text": [
      "Barcelona berhasil merebut posisi puncak klasemen La Liga Spanyol seusai menang 4-2 atas Sevilla pada pertandingan pekan kesembilan di Stadion Camp Nou, Sabtu (20/10/2018) atau Minggu dini hari WIB. Barcelona membuka keunggulan pada menit ke-2 melalui gol yang dicetak oleh Philippe Coutinho. Lionel Messi menggandakan keunggulan Barcelona, 10 menit berselang.  Namun, nahas bagi Barcelona, karena Messi harus ditarik keluar pada menit ke-26 setelah mengalami cedera. Tanpa Messi, skor 2-0 bertahan hingga babak pertama berakhir.\n"
     ]
    }
   ],
   "source": [
    "paragraf = \"Barcelona berhasil merebut posisi puncak klasemen La Liga Spanyol seusai menang 4-2 atas Sevilla pada pertandingan pekan kesembilan di Stadion Camp Nou, Sabtu (20/10/2018) atau Minggu dini hari WIB. Barcelona membuka keunggulan pada menit ke-2 melalui gol yang dicetak oleh Philippe Coutinho. Lionel Messi menggandakan keunggulan Barcelona, 10 menit berselang.  Namun, nahas bagi Barcelona, karena Messi harus ditarik keluar pada menit ke-26 setelah mengalami cedera. Tanpa Messi, skor 2-0 bertahan hingga babak pertama berakhir.\"\n",
    "\n",
    "print(paragraf)"
   ]
  },
  {
   "cell_type": "code",
   "execution_count": 2,
   "metadata": {},
   "outputs": [
    {
     "name": "stdout",
     "output_type": "stream",
     "text": [
      "barcelona: 4\n",
      "berhasil: 1\n",
      "merebut: 1\n",
      "posisi: 1\n",
      "puncak: 1\n",
      "klasemen: 1\n",
      "la: 1\n",
      "liga: 1\n",
      "spanyol: 1\n",
      "seusai: 1\n",
      "menang: 1\n",
      "4-2: 1\n",
      "atas: 1\n",
      "sevilla: 1\n",
      "pada: 3\n",
      "pertandingan: 1\n",
      "pekan: 1\n",
      "kesembilan: 1\n",
      "di: 1\n",
      "stadion: 1\n",
      "camp: 1\n",
      "nou: 1\n",
      "sabtu: 1\n",
      "20/10/2018: 1\n",
      "atau: 1\n",
      "minggu: 1\n",
      "dini: 1\n",
      "hari: 1\n",
      "wib: 1\n",
      "keunggulan: 2\n",
      "ke-2: 1\n",
      "melalui: 1\n",
      "gol: 1\n",
      "yang: 1\n",
      "dicetak: 1\n",
      "oleh: 1\n",
      "philippe: 1\n",
      "coutinho: 1\n",
      "lionel: 1\n",
      "messi: 3\n",
      "menggandakan: 1\n",
      "10: 1\n",
      "menit: 3\n",
      "berselang: 1\n",
      "namun: 1\n",
      "nahas: 1\n",
      "bagi: 1\n",
      "ditarik: 1\n",
      "keluar: 1\n",
      "ke-26: 1\n",
      "setelah: 1\n",
      "mengalami: 1\n",
      "cedera: 1\n",
      "tanpa: 1\n",
      "2-0: 1\n",
      "bertahan: 1\n",
      "hingga: 1\n",
      "babak: 1\n",
      "pertama: 1\n",
      "berakhir: 1\n"
     ]
    }
   ],
   "source": [
    "from preprocessing import word_count\n",
    "\n",
    "vocab = word_count(paragraf)\n",
    "\n",
    "for key, value in vocab.items():\n",
    "    print (key, value, sep=\": \")"
   ]
  },
  {
   "cell_type": "code",
   "execution_count": 5,
   "metadata": {},
   "outputs": [
    {
     "name": "stdout",
     "output_type": "stream",
     "text": [
      "barcelona: 4\n",
      "berhasil: 1\n",
      "merebut: 1\n",
      "posisi: 1\n",
      "puncak: 1\n",
      "klasemen: 1\n",
      "la: 1\n",
      "liga: 1\n",
      "spanyol: 1\n",
      "seusai: 1\n",
      "menang: 1\n",
      "atas: 1\n",
      "sevilla: 1\n",
      "pada: 3\n",
      "pertandingan: 1\n",
      "pekan: 1\n",
      "kesembilan: 1\n",
      "di: 1\n",
      "stadion: 1\n",
      "camp: 1\n",
      "nou: 1\n",
      "sabtu: 1\n",
      "20: 1\n",
      "10: 2\n",
      "2018: 1\n",
      "atau: 1\n",
      "minggu: 1\n",
      "dini: 1\n",
      "hari: 1\n",
      "wib: 1\n",
      "membuka: 1\n",
      "keunggulan: 2\n",
      "menit: 3\n",
      "ke: 2\n",
      "melalui: 1\n",
      "gol: 1\n",
      "yang: 1\n",
      "dicetak: 1\n",
      "oleh: 1\n",
      "philippe: 1\n",
      "coutinho: 1\n",
      "lionel: 1\n",
      "messi: 3\n",
      "menggandakan: 1\n",
      "berselang: 1\n",
      "namun: 1\n",
      "nahas: 1\n",
      "bagi: 1\n",
      "karena: 1\n",
      "harus: 1\n",
      "ditarik: 1\n",
      "keluar: 1\n",
      "26: 1\n",
      "setelah: 1\n",
      "mengalami: 1\n",
      "cedera: 1\n",
      "tanpa: 1\n",
      "skor: 1\n",
      "bertahan: 1\n",
      "hingga: 1\n",
      "babak: 1\n",
      "pertama: 1\n",
      "berakhir: 1\n"
     ]
    }
   ],
   "source": [
    "from sklearn.feature_extraction.text import CountVectorizer\n",
    "\n",
    "sk_paragraf = [paragraf]\n",
    "\n",
    "word_count_vector = CountVectorizer()\n",
    "word_count = word_count_vector.fit_transform(sk_paragraf)\n",
    "\n",
    "sk_vocab = word_count_vector.vocabulary_\n",
    "count = word_count.toarray()[0]\n",
    "\n",
    "for key, index in sk_vocab.items():\n",
    "    print (key, count[index], sep=\": \")"
   ]
  },
  {
   "cell_type": "code",
   "execution_count": null,
   "metadata": {},
   "outputs": [],
   "source": []
  }
 ],
 "metadata": {
  "kernelspec": {
   "display_name": "Python 3",
   "language": "python",
   "name": "python3"
  },
  "language_info": {
   "codemirror_mode": {
    "name": "ipython",
    "version": 3
   },
   "file_extension": ".py",
   "mimetype": "text/x-python",
   "name": "python",
   "nbconvert_exporter": "python",
   "pygments_lexer": "ipython3",
   "version": "3.7.0"
  }
 },
 "nbformat": 4,
 "nbformat_minor": 2
}
