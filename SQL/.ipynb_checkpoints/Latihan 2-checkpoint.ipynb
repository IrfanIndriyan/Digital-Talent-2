{
 "cells": [
  {
   "cell_type": "markdown",
   "metadata": {},
   "source": [
    "# Latihan 2\n",
    "\n",
    "### One to many relationship\n",
    "\n",
    "1. Report the account representative for each customer.\n",
    "2. Report total payments for Atelier graphique.\n",
    "3. Report the total payments by date\n",
    "4. Report the products that have not been sold.\n",
    "5. List the amount paid by each customer.\n",
    "6. How many orders have been placed by Herkku Gifts?\n",
    "7. Who are the employees in Boston?\n",
    "8. Report those payments greater than $100,000. Sort the report so the customer who made the highest payment appears first.\n",
    "9. List the value of 'On Hold' orders.\n",
    "10. Report the number of orders 'On Hold' for each customer.\n",
    "\n",
    "### Many to many relationship\n",
    "\n",
    "1. List products sold by order date.\n",
    "2. List the order dates in descending order for orders for the 1940 Ford Pickup Truck.\n",
    "3. List the names of customers and their corresponding order number where a particular order from that customer has a value greater than $25,000?\n",
    "4. Are there any products that appear on all orders?\n",
    "5. List the names of products sold at less than 80% of the MSRP.\n",
    "6. Reports those products that have been sold with a markup of 100% or more (i.e., the priceEach is at least twice the buyPrice)\n",
    "7. List the products ordered on a Monday.\n",
    "8. What is the quantity on hand for products listed on 'On Hold' orders?\n",
    "\n",
    "------\n",
    "## Answer\n",
    "\n",
    "Preparing MySQL Conection"
   ]
  },
  {
   "cell_type": "code",
   "execution_count": 1,
   "metadata": {},
   "outputs": [],
   "source": [
    "import mysql.connector\n",
    "import pandas as pd\n",
    "\n",
    "user = \"root\"\n",
    "passwd = \"root\"\n",
    "host = \"127.0.0.1\"\n",
    "database = \"classicmodels\"\n",
    "\n",
    "conn = mysql.connector.connect(user=user, password=passwd,\n",
    "                              host=host,\n",
    "                              database=database)"
   ]
  },
  {
   "cell_type": "markdown",
   "metadata": {},
   "source": [
    "### One to many relationship\n",
    "\n",
    "1. Report the account representative for each customer."
   ]
  },
  {
   "cell_type": "code",
   "execution_count": 2,
   "metadata": {},
   "outputs": [
    {
     "name": "stdout",
     "output_type": "stream",
     "text": [
      "                          customerName             Name\n",
      "0         Mini Gifts Distributors Ltd.  Leslie Jennings\n",
      "1                      Mini Wheels Co.  Leslie Jennings\n",
      "2                 Technics Stores Inc.  Leslie Jennings\n",
      "3             Corporate Gift Ideas Co.  Leslie Jennings\n",
      "4            The Sharp Gifts Warehouse  Leslie Jennings\n",
      "5             Signal Collectibles Ltd.  Leslie Jennings\n",
      "6                   Signal Gift Stores  Leslie Thompson\n",
      "7                    Toys4GrownUps.com  Leslie Thompson\n",
      "8                    Boards & Toys Co.  Leslie Thompson\n",
      "9         Collectable Mini Designs Co.  Leslie Thompson\n",
      "10          Men 'R' US Retailers, Ltd.  Leslie Thompson\n",
      "11         West Coast Collectables Co.  Leslie Thompson\n",
      "12          Cambridge Collectables Co.   Julie Firrelli\n",
      "13            Online Mini Collectables   Julie Firrelli\n",
      "14                 Mini Creations Ltd.   Julie Firrelli\n",
      "15             Classic Gift Ideas, Inc   Julie Firrelli\n",
      "16          Collectables For Less Inc.   Julie Firrelli\n",
      "17                Diecast Collectables   Julie Firrelli\n",
      "18               Diecast Classics Inc.  Steve Patterson\n",
      "19             Auto-Moto Classics Inc.  Steve Patterson\n",
      "20                Marta's Replicas Co.  Steve Patterson\n",
      "21                   Gifts4AllAges.com  Steve Patterson\n",
      "22        Online Diecast Creations Co.  Steve Patterson\n",
      "23                    FunGiftIdeas.com  Steve Patterson\n",
      "24                  Muscle Machine Inc   Foon Yue Tseng\n",
      "25              American Souvenirs Inc   Foon Yue Tseng\n",
      "26                     Vitachrome Inc.   Foon Yue Tseng\n",
      "27        Québec Home Shopping Network   Foon Yue Tseng\n",
      "28                Classic Legends Inc.   Foon Yue Tseng\n",
      "29                    Super Scale Inc.   Foon Yue Tseng\n",
      "..                                 ...              ...\n",
      "70                  Baane Mini Imports      Barry Jones\n",
      "71                Blauer See Auto, Co.      Barry Jones\n",
      "72            Volvo Model Replicas, Co      Barry Jones\n",
      "73                        Herkku Gifts      Barry Jones\n",
      "74             Clover Collections, Co.      Barry Jones\n",
      "75             Toms Spezialitäten, Ltd      Barry Jones\n",
      "76           Norway Gifts By Mail, Co.      Barry Jones\n",
      "77  Bavarian Collectables Imports, Co.      Barry Jones\n",
      "78             Scandinavian Gift Ideas      Barry Jones\n",
      "79          Australian Collectors, Co.      Andy Fixter\n",
      "80             Anna's Decorations, Ltd      Andy Fixter\n",
      "81           Souveniers And Things Co.      Andy Fixter\n",
      "82         Australian Gift Network, Co      Andy Fixter\n",
      "83        Australian Collectables, Ltd      Andy Fixter\n",
      "84                    Handji Gifts& Co      Peter Marsh\n",
      "85          Down Under Souveniers, Inc      Peter Marsh\n",
      "86                     GiftsForHim.com      Peter Marsh\n",
      "87       Extreme Desk Decorations, Ltd      Peter Marsh\n",
      "88                   Kelly's Gift Shop      Peter Marsh\n",
      "89             Dragon Souveniers, Ltd.       Mami Nishi\n",
      "90                Osaka Souveniers Co.       Mami Nishi\n",
      "91         King Kong Collectables, Co.       Mami Nishi\n",
      "92                     Cruz & Sons Co.       Mami Nishi\n",
      "93             Tokyo Collectables, Ltd       Mami Nishi\n",
      "94                  Enaco Distributors    Martin Gerard\n",
      "95                     Vida Sport, Ltd    Martin Gerard\n",
      "96                         CAF Imports    Martin Gerard\n",
      "97               Precious Collectables    Martin Gerard\n",
      "98          Corrida Auto Replicas, Ltd    Martin Gerard\n",
      "99          Iberia Gift Imports, Corp.    Martin Gerard\n",
      "\n",
      "[100 rows x 2 columns]\n"
     ]
    }
   ],
   "source": [
    "account_representative = pd.read_sql_query('SELECT customerName, CONCAT(firstName, \" \",lastName) AS Name FROM customers INNER JOIN employees ON customers.salesRepEmployeeNumber = employees.employeeNumber', conn)\n",
    "print (account_representative)"
   ]
  },
  {
   "cell_type": "markdown",
   "metadata": {},
   "source": [
    "2. Report total payments for Atelier graphique."
   ]
  },
  {
   "cell_type": "code",
   "execution_count": 3,
   "metadata": {},
   "outputs": [
    {
     "name": "stdout",
     "output_type": "stream",
     "text": [
      "        customerName  Total_payment\n",
      "0  Atelier graphique       22314.36\n"
     ]
    }
   ],
   "source": [
    "atelier_total_payment = pd.read_sql_query('SELECT customerName, SUM(amount) AS Total_payment FROM customers AS t1 INNER JOIN payments AS t2 ON t1.customerNumber =  t2.customerNumber WHERE customerName = \"Atelier graphique\"', conn)\n",
    "print (atelier_total_payment)"
   ]
  },
  {
   "cell_type": "markdown",
   "metadata": {},
   "source": [
    "3. Report the total payments by date"
   ]
  },
  {
   "cell_type": "code",
   "execution_count": 4,
   "metadata": {},
   "outputs": [
    {
     "name": "stdout",
     "output_type": "stream",
     "text": [
      "    paymentDate  Total_Payment\n",
      "0    2003-01-16       10223.83\n",
      "1    2003-01-28       10549.01\n",
      "2    2003-01-30        5494.78\n",
      "3    2003-02-16       50218.95\n",
      "4    2003-02-20       53959.21\n",
      "5    2003-02-25       40206.20\n",
      "6    2003-03-02       52151.81\n",
      "7    2003-03-09       51001.22\n",
      "8    2003-03-12       22292.62\n",
      "9    2003-03-20       25833.14\n",
      "10   2003-03-27       48425.69\n",
      "11   2003-04-09       24212.79\n",
      "12   2003-04-11       11044.30\n",
      "13   2003-04-16       21665.98\n",
      "14   2003-04-19        1627.56\n",
      "15   2003-04-20       33383.14\n",
      "16   2003-04-22       44380.15\n",
      "17   2003-05-09        3101.40\n",
      "18   2003-05-12       35826.33\n",
      "19   2003-05-20       45864.03\n",
      "20   2003-05-21       16700.47\n",
      "21   2003-05-25       50824.66\n",
      "22   2003-05-31        7565.08\n",
      "23   2003-06-05       14571.44\n",
      "24   2003-06-06       32641.98\n",
      "25   2003-06-13       57131.92\n",
      "26   2003-06-18       58841.35\n",
      "27   2003-06-25       17032.29\n",
      "28   2003-07-05        2880.00\n",
      "29   2003-07-06        6036.96\n",
      "..          ...            ...\n",
      "202  2005-02-02       12692.19\n",
      "203  2005-02-03       14379.90\n",
      "204  2005-02-06       39580.60\n",
      "205  2005-02-09       27083.78\n",
      "206  2005-02-12       28322.83\n",
      "207  2005-02-14       33967.73\n",
      "208  2005-02-15       46770.52\n",
      "209  2005-02-22       49523.67\n",
      "210  2005-03-01       21432.31\n",
      "211  2005-03-02        3452.75\n",
      "212  2005-03-05      101244.59\n",
      "213  2005-03-10       23602.90\n",
      "214  2005-03-15       46781.66\n",
      "215  2005-03-18      120166.58\n",
      "216  2005-03-25       65071.26\n",
      "217  2005-03-27        3516.04\n",
      "218  2005-04-15       30293.77\n",
      "219  2005-04-16       83598.04\n",
      "220  2005-04-18       27966.54\n",
      "221  2005-04-23       12190.85\n",
      "222  2005-04-30       29848.52\n",
      "223  2005-05-03       43964.87\n",
      "224  2005-05-17       17928.09\n",
      "225  2005-05-18         615.45\n",
      "226  2005-05-19       75396.26\n",
      "227  2005-05-20       29070.38\n",
      "228  2005-05-23       75020.13\n",
      "229  2005-05-25       30253.75\n",
      "230  2005-06-03       12432.32\n",
      "231  2005-06-09       46656.94\n",
      "\n",
      "[232 rows x 2 columns]\n"
     ]
    }
   ],
   "source": [
    "total_payment_by_date = pd.read_sql_query(\"SELECT paymentDate, SUM(amount) AS Total_Payment FROM payments GROUP BY paymentDate\", conn)\n",
    "print (total_payment_by_date)"
   ]
  },
  {
   "cell_type": "markdown",
   "metadata": {},
   "source": [
    "4. Report the products that have not been sold."
   ]
  },
  {
   "cell_type": "code",
   "execution_count": 5,
   "metadata": {},
   "outputs": [
    {
     "name": "stdout",
     "output_type": "stream",
     "text": [
      "         productName\n",
      "0  1985 Toyota Supra\n"
     ]
    }
   ],
   "source": [
    "not_been_sold = pd.read_sql_query(\"SELECT DISTINCT(productName) FROM products WHERE productCode NOT IN ( SELECT productCode FROM orderdetails )\", conn)\n",
    "print (not_been_sold)"
   ]
  },
  {
   "cell_type": "markdown",
   "metadata": {},
   "source": [
    "5. List the amount paid by each customer."
   ]
  },
  {
   "cell_type": "code",
   "execution_count": 6,
   "metadata": {},
   "outputs": [
    {
     "name": "stdout",
     "output_type": "stream",
     "text": [
      "                          customerName  SUM(amount)\n",
      "0                         Alpha Cognac     60483.36\n",
      "1                   Amica Models & Co.     82223.23\n",
      "2              Anna's Decorations, Ltd    137034.22\n",
      "3                    Atelier graphique     22314.36\n",
      "4         Australian Collectables, Ltd     44920.76\n",
      "5           Australian Collectors, Co.    180585.07\n",
      "6          Australian Gift Network, Co     55190.16\n",
      "7                 Auto Associés & Cie.     58876.41\n",
      "8                    Auto Canal+ Petit     86436.97\n",
      "9              Auto-Moto Classics Inc.     21554.26\n",
      "10                      AV Stores, Co.    148410.09\n",
      "11                  Baane Mini Imports    104224.79\n",
      "12  Bavarian Collectables Imports, Co.     31310.09\n",
      "13                Blauer See Auto, Co.     75937.76\n",
      "14                   Boards & Toys Co.      7918.60\n",
      "15                         CAF Imports     46751.14\n",
      "16          Cambridge Collectables Co.     32198.69\n",
      "17      Canadian Gift Exchange Network     70122.19\n",
      "18             Classic Gift Ideas, Inc     57939.34\n",
      "19                Classic Legends Inc.     69214.33\n",
      "20             Clover Collections, Co.     49898.27\n",
      "21        Collectable Mini Designs Co.     80375.24\n",
      "22          Collectables For Less Inc.     73533.65\n",
      "23            Corporate Gift Ideas Co.    132340.78\n",
      "24          Corrida Auto Replicas, Ltd    112440.09\n",
      "25                     Cruz & Sons Co.     87468.30\n",
      "26            Daedalus Designs Imports     61781.70\n",
      "27            Danish Wholesale Imports    107446.50\n",
      "28               Diecast Classics Inc.     98509.25\n",
      "29                Diecast Collectables     65541.74\n",
      "..                                 ...          ...\n",
      "68            Online Mini Collectables     55577.26\n",
      "69                Osaka Souveniers Co.     62361.22\n",
      "70             Oulu Toy Supplies, Inc.     95706.15\n",
      "71                          Petit Auto     62253.85\n",
      "72        Québec Home Shopping Network     68977.67\n",
      "73                  Reims Collectables    126983.19\n",
      "74                       Rovelli Gifts    127529.69\n",
      "75   Royal Canadian Collectables, Ltd.     66812.00\n",
      "76                        Royale Belge     29217.18\n",
      "77               Salzburg Collectables     85060.00\n",
      "78              Saveley & Henriot, Co.    130305.35\n",
      "79             Scandinavian Gift Ideas     76776.44\n",
      "80            Signal Collectibles Ltd.     42570.37\n",
      "81                  Signal Gift Stores     80180.98\n",
      "82           Souveniers And Things Co.     91655.61\n",
      "83            Stylish Desk Decors, Co.     80556.73\n",
      "84                 Suominen Souveniers    103896.74\n",
      "85                    Super Scale Inc.     70378.65\n",
      "86                Technics Stores Inc.    104545.22\n",
      "87             Tekni Collectables Inc.     38281.51\n",
      "88           The Sharp Gifts Warehouse     59551.38\n",
      "89             Tokyo Collectables, Ltd    105548.73\n",
      "90             Toms Spezialitäten, Ltd     89223.14\n",
      "91                Toys of Finland, Co.     95546.46\n",
      "92                   Toys4GrownUps.com     93803.30\n",
      "93               UK Collectables, Ltd.     61167.18\n",
      "94                     Vida Sport, Ltd    108777.92\n",
      "95                     Vitachrome Inc.     72497.64\n",
      "96            Volvo Model Replicas, Co     43680.65\n",
      "97         West Coast Collectables Co.     43748.72\n",
      "\n",
      "[98 rows x 2 columns]\n"
     ]
    }
   ],
   "source": [
    "paid_by_custumer = pd.read_sql_query(\"SELECT customerName, SUM(amount) FROM customers INNER JOIN payments ON customers.customerNumber = payments.customerNumber GROUP BY customerName\", conn)\n",
    "print (paid_by_custumer)"
   ]
  },
  {
   "cell_type": "markdown",
   "metadata": {},
   "source": [
    "6. How many orders have been placed by Herkku Gifts?"
   ]
  },
  {
   "cell_type": "code",
   "execution_count": 7,
   "metadata": {},
   "outputs": [
    {
     "name": "stdout",
     "output_type": "stream",
     "text": [
      "   customerName  Placed\n",
      "0  Herkku Gifts       3\n"
     ]
    }
   ],
   "source": [
    "herkku_order = pd.read_sql_query(\"SELECT customerName, COUNT(orderNumber) AS Placed FROM customers INNER JOIN orders ON customers.customerNumber = orders.customerNumber WHERE customerName = 'Herkku Gifts' GROUP BY customerName\", conn)\n",
    "print (herkku_order)"
   ]
  },
  {
   "cell_type": "markdown",
   "metadata": {},
   "source": [
    "7. Who are the employees in Boston?"
   ]
  },
  {
   "cell_type": "code",
   "execution_count": 8,
   "metadata": {},
   "outputs": [
    {
     "name": "stdout",
     "output_type": "stream",
     "text": [
      "  CONCAT(firstName, lastName)    city\n",
      "0               JulieFirrelli  Boston\n",
      "1              StevePatterson  Boston\n"
     ]
    }
   ],
   "source": [
    "boston_employee = pd.read_sql_query(\"SELECT CONCAT(firstName, lastName), city FROM employees INNER JOIN offices ON employees.officeCode = offices.officeCode WHERE city = 'Boston'\", conn)\n",
    "print (boston_employee)"
   ]
  },
  {
   "cell_type": "markdown",
   "metadata": {},
   "source": [
    "8. Report those payments greater than $100,000. Sort the report so the customer who made the highest payment appears first."
   ]
  },
  {
   "cell_type": "code",
   "execution_count": 9,
   "metadata": {},
   "outputs": [
    {
     "name": "stdout",
     "output_type": "stream",
     "text": [
      "                    customerName      Total\n",
      "0        Anna's Decorations, Ltd  137034.22\n",
      "1     Australian Collectors, Co.  180585.07\n",
      "2                 AV Stores, Co.  148410.09\n",
      "3             Baane Mini Imports  104224.79\n",
      "4       Corporate Gift Ideas Co.  132340.78\n",
      "5     Corrida Auto Replicas, Ltd  112440.09\n",
      "6       Danish Wholesale Imports  107446.50\n",
      "7     Down Under Souveniers, Inc  154622.08\n",
      "8        Dragon Souveniers, Ltd.  156251.03\n",
      "9         Euro+ Shopping Channel  715738.98\n",
      "10              Handji Gifts& Co  105420.57\n",
      "11             Kelly's Gift Shop  114497.19\n",
      "12             La Rochelle Gifts  116949.68\n",
      "13             Land of Toys Inc.  107639.94\n",
      "14           Mini Creations Ltd.  101872.52\n",
      "15  Mini Gifts Distributors Ltd.  584188.24\n",
      "16            Muscle Machine Inc  177913.95\n",
      "17  Online Diecast Creations Co.  116449.29\n",
      "18            Reims Collectables  126983.19\n",
      "19                 Rovelli Gifts  127529.69\n",
      "20        Saveley & Henriot, Co.  130305.35\n",
      "21           Suominen Souveniers  103896.74\n",
      "22          Technics Stores Inc.  104545.22\n",
      "23       Tokyo Collectables, Ltd  105548.73\n",
      "24               Vida Sport, Ltd  108777.92\n"
     ]
    }
   ],
   "source": [
    "customer_payment_100 = pd.read_sql_query(\"SELECT customerName, SUM(amount) AS Total FROM customers INNER JOIN payments ON customers.customerNumber = payments.customerNumber GROUP BY customerName HAVING Total > 100000\", conn)\n",
    "print (customer_payment_100)"
   ]
  },
  {
   "cell_type": "markdown",
   "metadata": {},
   "source": [
    "9. List the value of 'On Hold' orders."
   ]
  },
  {
   "cell_type": "code",
   "execution_count": 10,
   "metadata": {},
   "outputs": [
    {
     "name": "stdout",
     "output_type": "stream",
     "text": [
      "                customerName   status\n",
      "0   Volvo Model Replicas, Co  On Hold\n",
      "1    Tekni Collectables Inc.  On Hold\n",
      "2  The Sharp Gifts Warehouse  On Hold\n",
      "3          Gifts4AllAges.com  On Hold\n"
     ]
    }
   ],
   "source": [
    "on_hold_order = pd.read_sql_query(\"SELECT customerName, status FROM orders INNER JOIN customers ON orders.customerNumber = customers.customerNumber WHERE status = 'On Hold'\", conn)\n",
    "print (on_hold_order)"
   ]
  },
  {
   "cell_type": "markdown",
   "metadata": {},
   "source": [
    "10. Report the number of orders 'On Hold' for each customer."
   ]
  },
  {
   "cell_type": "code",
   "execution_count": 11,
   "metadata": {},
   "outputs": [
    {
     "name": "stdout",
     "output_type": "stream",
     "text": [
      "                customerName  Jumlah_ON_HOLD\n",
      "0          Gifts4AllAges.com               1\n",
      "1    Tekni Collectables Inc.               1\n",
      "2  The Sharp Gifts Warehouse               1\n",
      "3   Volvo Model Replicas, Co               1\n"
     ]
    }
   ],
   "source": [
    "number_on_hold_customer = pd.read_sql_query(\"SELECT customerName, COUNT(status) AS Jumlah_ON_HOLD FROM orders INNER JOIN customers ON orders.customerNumber = customers.customerNumber WHERE status = 'On Hold' GROUP BY customerName\", conn)\n",
    "print (number_on_hold_customer)"
   ]
  },
  {
   "cell_type": "markdown",
   "metadata": {},
   "source": [
    "### Many to many relationship\n",
    "\n",
    "1. List products sold by order date."
   ]
  },
  {
   "cell_type": "code",
   "execution_count": 12,
   "metadata": {},
   "outputs": [
    {
     "name": "stdout",
     "output_type": "stream",
     "text": [
      "                                      productName   orderDate\n",
      "0                        1917 Grand Touring Sedan  2003-01-06\n",
      "1             1932 Alfa Romeo 8C2300 Spider Sport  2003-01-06\n",
      "2                              1911 Ford Town Car  2003-01-06\n",
      "3                1936 Mercedes Benz 500k Roadster  2003-01-06\n",
      "4                          1928 Mercedes-Benz SSK  2003-01-09\n",
      "5                       1932 Model A Ford J-Coupe  2003-01-09\n",
      "6       1938 Cadillac V-16 Presidential Limousine  2003-01-09\n",
      "7                     1939 Chevrolet Deluxe Coupe  2003-01-09\n",
      "8                            1937 Lincoln Berline  2003-01-10\n",
      "9        1936 Mercedes-Benz 500K Special Roadster  2003-01-10\n",
      "10            18th Century Vintage Horse Carriage  2003-01-29\n",
      "11                    1980’s GM Manhattan Express  2003-01-29\n",
      "12                                1982 Camaro Z28  2003-01-29\n",
      "13                          1936 Chrysler Airflow  2003-01-29\n",
      "14    1996 Peterbilt 379 Stake Bed with Outrigger  2003-01-29\n",
      "15                       1962 Volkswagen Microbus  2003-01-29\n",
      "16                        1939 Cadillac Limousine  2003-01-29\n",
      "17                             1934 Ford V8 Coupe  2003-01-29\n",
      "18                                 1958 Setra Bus  2003-01-29\n",
      "19                               1940s Ford truck  2003-01-29\n",
      "20                       1917 Maxwell Touring Car  2003-01-29\n",
      "21                    1913 Ford Model T Speedster  2003-01-29\n",
      "22                       1952 Alpine Renault 1300  2003-01-29\n",
      "23                         1962 LanciaA Delta 16V  2003-01-29\n",
      "24                         1940 Ford Pickup Truck  2003-01-29\n",
      "25                          1926 Ford Fire Engine  2003-01-29\n",
      "26                             1969 Corvair Monza  2003-01-31\n",
      "27                    1954 Greyhound Scenicruiser  2003-01-31\n",
      "28                    1992 Ferrari 360 Spider red  2003-01-31\n",
      "29            1958 Chevy Corvette Limited Edition  2003-01-31\n",
      "...                                           ...         ...\n",
      "2966          1932 Alfa Romeo 8C2300 Spider Sport  2005-05-29\n",
      "2967    1938 Cadillac V-16 Presidential Limousine  2005-05-29\n",
      "2968                           1949 Jaguar XK 120  2005-05-29\n",
      "2969                            1952 Citroen-15CV  2005-05-29\n",
      "2970                     1917 Maxwell Touring Car  2005-05-30\n",
      "2971                  1913 Ford Model T Speedster  2005-05-30\n",
      "2972     1936 Mercedes-Benz 500K Special Roadster  2005-05-30\n",
      "2973          18th Century Vintage Horse Carriage  2005-05-30\n",
      "2974                        1936 Chrysler Airflow  2005-05-30\n",
      "2975                         1937 Lincoln Berline  2005-05-30\n",
      "2976                           1934 Ford V8 Coupe  2005-05-30\n",
      "2977                            1957 Chevy Pickup  2005-05-31\n",
      "2978                           1970 Dodge Coronet  2005-05-31\n",
      "2979                     1952 Alpine Renault 1300  2005-05-31\n",
      "2980                       1962 LanciaA Delta 16V  2005-05-31\n",
      "2981             Diamond T620 Semi-Skirted Tanker  2005-05-31\n",
      "2982               1998 Chrysler Plymouth Prowler  2005-05-31\n",
      "2983                        1926 Ford Fire Engine  2005-05-31\n",
      "2984                       1940 Ford Pickup Truck  2005-05-31\n",
      "2985                  1992 Ferrari 360 Spider red  2005-05-31\n",
      "2986                  1954 Greyhound Scenicruiser  2005-05-31\n",
      "2987                  1980’s GM Manhattan Express  2005-05-31\n",
      "2988                              1982 Camaro Z28  2005-05-31\n",
      "2989  1996 Peterbilt 379 Stake Bed with Outrigger  2005-05-31\n",
      "2990                     1962 Volkswagen Microbus  2005-05-31\n",
      "2991          1958 Chevy Corvette Limited Edition  2005-05-31\n",
      "2992                      1939 Cadillac Limousine  2005-05-31\n",
      "2993                       1964 Mercedes Tour Bus  2005-05-31\n",
      "2994                               1958 Setra Bus  2005-05-31\n",
      "2995                             1940s Ford truck  2005-05-31\n",
      "\n",
      "[2996 rows x 2 columns]\n"
     ]
    }
   ],
   "source": [
    "sold = pd.read_sql_query(\"SELECT productName, orderDate FROM products INNER JOIN orderdetails ON products.productCode = orderdetails.productCode INNER JOIN orders ON orderdetails.orderNumber = orders.orderNumber ORDER BY orderDate\", conn)\n",
    "print (sold)"
   ]
  },
  {
   "cell_type": "markdown",
   "metadata": {},
   "source": [
    "2. List the order dates in descending order for orders for the 1940 Ford Pickup Truck."
   ]
  },
  {
   "cell_type": "code",
   "execution_count": 13,
   "metadata": {},
   "outputs": [
    {
     "name": "stdout",
     "output_type": "stream",
     "text": [
      "     orderDate             productName\n",
      "0   2005-05-31  1940 Ford Pickup Truck\n",
      "1   2005-05-01  1940 Ford Pickup Truck\n",
      "2   2005-03-09  1940 Ford Pickup Truck\n",
      "3   2005-02-17  1940 Ford Pickup Truck\n",
      "4   2005-01-20  1940 Ford Pickup Truck\n",
      "5   2004-12-10  1940 Ford Pickup Truck\n",
      "6   2004-11-29  1940 Ford Pickup Truck\n",
      "7   2004-11-18  1940 Ford Pickup Truck\n",
      "8   2004-11-04  1940 Ford Pickup Truck\n",
      "9   2004-10-21  1940 Ford Pickup Truck\n",
      "10  2004-10-11  1940 Ford Pickup Truck\n",
      "11  2004-09-08  1940 Ford Pickup Truck\n",
      "12  2004-08-17  1940 Ford Pickup Truck\n",
      "13  2004-07-19  1940 Ford Pickup Truck\n",
      "14  2004-06-15  1940 Ford Pickup Truck\n",
      "15  2004-05-04  1940 Ford Pickup Truck\n",
      "16  2004-03-10  1940 Ford Pickup Truck\n",
      "17  2004-01-29  1940 Ford Pickup Truck\n",
      "18  2003-12-05  1940 Ford Pickup Truck\n",
      "19  2003-11-25  1940 Ford Pickup Truck\n",
      "20  2003-11-13  1940 Ford Pickup Truck\n",
      "21  2003-11-06  1940 Ford Pickup Truck\n",
      "22  2003-10-21  1940 Ford Pickup Truck\n",
      "23  2003-09-19  1940 Ford Pickup Truck\n",
      "24  2003-07-24  1940 Ford Pickup Truck\n",
      "25  2003-05-28  1940 Ford Pickup Truck\n",
      "26  2003-03-26  1940 Ford Pickup Truck\n",
      "27  2003-01-29  1940 Ford Pickup Truck\n"
     ]
    }
   ],
   "source": [
    "desc_date_ford_pickup = pd.read_sql_query(\"SELECT orderDate, productName FROM orders INNER JOIN orderdetails ON orders.orderNumber = orderdetails.orderNumber INNER JOIN products ON orderdetails.productCode = products.productCode WHERE productName = '1940 Ford Pickup Truck' ORDER BY orderDate DESC\", conn)\n",
    "print (desc_date_ford_pickup)"
   ]
  },
  {
   "cell_type": "markdown",
   "metadata": {},
   "source": [
    "3. List the names of customers and their corresponding order number where a particular order from that customer has a value greater than $25,000?"
   ]
  },
  {
   "cell_type": "code",
   "execution_count": 14,
   "metadata": {},
   "outputs": [
    {
     "name": "stdout",
     "output_type": "stream",
     "text": [
      "                     customerName  orderNumber       Val\n",
      "0              Baane Mini Imports        10103  50218.95\n",
      "1          Euro+ Shopping Channel        10104  40206.20\n",
      "2        Danish Wholesale Imports        10105  53959.21\n",
      "3                   Rovelli Gifts        10106  52151.81\n",
      "4                 Cruz & Sons Co.        10108  51001.22\n",
      "5    Motor Mint Distributors Inc.        10109  25833.14\n",
      "6                  AV Stores, Co.        10110  48425.69\n",
      "7       La Corne D'abondance, Co.        10114  33383.14\n",
      "8         Dragon Souveniers, Ltd.        10117  44380.15\n",
      "9           Salzburg Collectables        10119  35826.33\n",
      "10     Australian Collectors, Co.        10120  45864.03\n",
      "11           Marseille Mini Autos        10122  50824.66\n",
      "12             Signal Gift Stores        10124  32641.98\n",
      "13     Corrida Auto Replicas, Ltd        10126  57131.92\n",
      "14             Muscle Machine Inc        10127  58841.35\n",
      "15       Stylish Desk Decors, Co.        10129  29429.14\n",
      "16   Mini Gifts Distributors Ltd.        10135  55601.84\n",
      "17              Kelly's Gift Shop        10138  32077.44\n",
      "18           Technics Stores Inc.        10140  38675.13\n",
      "19            Suominen Souveniers        10141  29716.86\n",
      "20   Mini Gifts Distributors Ltd.        10142  56052.56\n",
      "21            Mini Creations Ltd.        10143  41016.75\n",
      "22              Toys4GrownUps.com        10145  50342.74\n",
      "23     Collectables For Less Inc.        10147  32680.31\n",
      "24        Anna's Decorations, Ltd        10148  41554.73\n",
      "25       Signal Collectibles Ltd.        10149  29997.09\n",
      "26        Dragon Souveniers, Ltd.        10150  38350.15\n",
      "27        Oulu Toy Supplies, Inc.        10151  32723.04\n",
      "28         Euro+ Shopping Channel        10153  44939.85\n",
      "29           Toys of Finland, Co.        10155  37602.48\n",
      "..                            ...          ...       ...\n",
      "162        Euro+ Shopping Channel        10380  34404.21\n",
      "163      Corporate Gift Ideas Co.        10381  32626.09\n",
      "164  Mini Gifts Distributors Ltd.        10382  47765.59\n",
      "165        Euro+ Shopping Channel        10383  36851.98\n",
      "166        Euro+ Shopping Channel        10386  46968.52\n",
      "167              FunGiftIdeas.com        10388  30293.77\n",
      "168       Scandinavian Gift Ideas        10389  27966.54\n",
      "169  Mini Gifts Distributors Ltd.        10390  55902.50\n",
      "170       Anna's Decorations, Ltd        10391  29848.52\n",
      "171    Down Under Souveniers, Inc        10393  33593.32\n",
      "172  Mini Gifts Distributors Ltd.        10396  27695.54\n",
      "173            Reims Collectables        10398  46656.94\n",
      "174             Kelly's Gift Shop        10399  30253.75\n",
      "175     The Sharp Gifts Warehouse        10400  31755.34\n",
      "176       Tekni Collectables Inc.        10401  43525.04\n",
      "177         UK Collectables, Ltd.        10403  37258.94\n",
      "178    Down Under Souveniers, Inc        10404  41426.81\n",
      "179                   Mini Caravy        10405  35157.75\n",
      "180     The Sharp Gifts Warehouse        10407  52229.55\n",
      "181               GiftsForHim.com        10410  36442.34\n",
      "182  Québec Home Shopping Network        10411  29070.38\n",
      "183        Euro+ Shopping Channel        10412  46895.48\n",
      "184               Gift Depot Inc.        10413  28500.78\n",
      "185             Gifts4AllAges.com        10414  50806.85\n",
      "186           L'ordine Souveniers        10416  35362.26\n",
      "187        Euro+ Shopping Channel        10417  28574.90\n",
      "188         Salzburg Collectables        10419  52420.07\n",
      "189     Souveniers And Things Co.        10420  42251.51\n",
      "190        Euro+ Shopping Channel        10424  29310.30\n",
      "191             La Rochelle Gifts        10425  41623.44\n",
      "\n",
      "[192 rows x 3 columns]\n"
     ]
    }
   ],
   "source": [
    "customer_order_value_25 = pd.read_sql_query(\"SELECT customerName, orders.orderNumber, SUM(priceEach * quantityOrdered) AS Val FROM customers INNER JOIN orders ON customers.customerNumber = orders.customerNumber INNER JOIN orderdetails ON orders.orderNumber = orderdetails.orderNumber GROUP BY orderNumber HAVING Val > 25000\", conn)\n",
    "print (customer_order_value_25)"
   ]
  },
  {
   "cell_type": "markdown",
   "metadata": {},
   "source": [
    "4. Are there any products that appear on all orders?"
   ]
  },
  {
   "cell_type": "code",
   "execution_count": 15,
   "metadata": {},
   "outputs": [
    {
     "name": "stdout",
     "output_type": "stream",
     "text": [
      "Empty DataFrame\n",
      "Columns: [productName]\n",
      "Index: []\n"
     ]
    }
   ],
   "source": [
    "# There are none\n",
    "all_time_product = pd.read_sql(\"SELECT productName FROM products INNER JOIN orderdetails ON products.productCode = orderdetails.productCode GROUP BY productName HAVING COUNT(DISTINCT(orderNumber)) > ( SELECT COUNT(DISTINCT(orderNumber)) FROM orderdetails)\", conn)\n",
    "print (all_time_product)"
   ]
  },
  {
   "cell_type": "markdown",
   "metadata": {},
   "source": [
    "5. List the names of products sold at less than 80% of the MSRP."
   ]
  },
  {
   "cell_type": "code",
   "execution_count": 16,
   "metadata": {},
   "outputs": [
    {
     "name": "stdout",
     "output_type": "stream",
     "text": [
      "                                    productName\n",
      "0                         1996 Moto Guzzi 1100i\n",
      "1                               1993 Mazda RX-7\n",
      "2                          1937 Lincoln Berline\n",
      "3                         1965 Aston Martin DB5\n",
      "4                         1965 Aston Martin DB5\n",
      "5                   1980s Black Hawk Helicopter\n",
      "6                   1980s Black Hawk Helicopter\n",
      "7                            1911 Ford Town Car\n",
      "8                                P-51-D Mustang\n",
      "9                                P-51-D Mustang\n",
      "10                  1992 Ferrari 360 Spider red\n",
      "11                  1992 Ferrari 360 Spider red\n",
      "12                  1992 Ferrari 360 Spider red\n",
      "13                  1992 Ferrari 360 Spider red\n",
      "14                     Collectable Wooden Train\n",
      "15                        1976 Ford Gran Torino\n",
      "16          1932 Alfa Romeo 8C2300 Spider Sport\n",
      "17                             1940s Ford truck\n",
      "18                             1940s Ford truck\n",
      "19                             1940s Ford truck\n",
      "20                  1939 Chevrolet Deluxe Coupe\n",
      "21                  1939 Chevrolet Deluxe Coupe\n",
      "22                        18th century schooner\n",
      "23                     1962 Volkswagen Microbus\n",
      "24                     1962 Volkswagen Microbus\n",
      "25                            1952 Citroen-15CV\n",
      "26                            1952 Citroen-15CV\n",
      "27                    1971 Alpine Renault 1600s\n",
      "28                      1956 Porsche 356A Coupe\n",
      "29                      1956 Porsche 356A Coupe\n",
      "30                      1956 Porsche 356A Coupe\n",
      "31                     Corsair F4U ( Bird Cage)\n",
      "32             1936 Mercedes Benz 500k Roadster\n",
      "33             1936 Mercedes Benz 500k Roadster\n",
      "34             1936 Mercedes Benz 500k Roadster\n",
      "35                             1997 BMW F650 ST\n",
      "36       1950's Chicago Surface Lines Streetcar\n",
      "37  1996 Peterbilt 379 Stake Bed with Outrigger\n",
      "38                 1930 Buick Marquette Phaeton\n",
      "39               1962 City of Detroit Streetcar\n",
      "40                  American Airlines: B767-300\n",
      "41                  American Airlines: B767-300\n",
      "42                    The USS Constitution Ship\n",
      "43                    American Airlines: MD-11S\n"
     ]
    }
   ],
   "source": [
    "msrp_80 = pd.read_sql_query(\"SELECT productName FROM products INNER JOIN orderdetails ON products.productCode = orderdetails.productCode WHERE priceEach / MSRP < 0.8\", conn)\n",
    "print (msrp_80)"
   ]
  },
  {
   "cell_type": "markdown",
   "metadata": {},
   "source": [
    "6. Reports those products that have been sold with a markup of 100% or more (i.e., the priceEach is at least twice the buyPrice)"
   ]
  },
  {
   "cell_type": "code",
   "execution_count": 17,
   "metadata": {},
   "outputs": [
    {
     "name": "stdout",
     "output_type": "stream",
     "text": [
      "                              productName\n",
      "0                1952 Alpine Renault 1300\n",
      "1                1952 Alpine Renault 1300\n",
      "2                1952 Alpine Renault 1300\n",
      "3                1952 Alpine Renault 1300\n",
      "4                1952 Alpine Renault 1300\n",
      "5                1952 Alpine Renault 1300\n",
      "6                1952 Alpine Renault 1300\n",
      "7                1952 Alpine Renault 1300\n",
      "8                1952 Alpine Renault 1300\n",
      "9                1952 Alpine Renault 1300\n",
      "10               1952 Alpine Renault 1300\n",
      "11               1952 Alpine Renault 1300\n",
      "12               1952 Alpine Renault 1300\n",
      "13               1952 Alpine Renault 1300\n",
      "14               1952 Alpine Renault 1300\n",
      "15               1952 Alpine Renault 1300\n",
      "16   2003 Harley-Davidson Eagle Drag Bike\n",
      "17   2003 Harley-Davidson Eagle Drag Bike\n",
      "18   2003 Harley-Davidson Eagle Drag Bike\n",
      "19   2003 Harley-Davidson Eagle Drag Bike\n",
      "20   2003 Harley-Davidson Eagle Drag Bike\n",
      "21   2003 Harley-Davidson Eagle Drag Bike\n",
      "22   2003 Harley-Davidson Eagle Drag Bike\n",
      "23   2003 Harley-Davidson Eagle Drag Bike\n",
      "24   2003 Harley-Davidson Eagle Drag Bike\n",
      "25                      1968 Ford Mustang\n",
      "26                      1968 Ford Mustang\n",
      "27                      2001 Ferrari Enzo\n",
      "28                      2001 Ferrari Enzo\n",
      "29                      2001 Ferrari Enzo\n",
      "..                                    ...\n",
      "470                            HMS Bounty\n",
      "471                            HMS Bounty\n",
      "472                            HMS Bounty\n",
      "473                            HMS Bounty\n",
      "474                            HMS Bounty\n",
      "475                            HMS Bounty\n",
      "476                            HMS Bounty\n",
      "477                            HMS Bounty\n",
      "478                            HMS Bounty\n",
      "479             The USS Constitution Ship\n",
      "480             The USS Constitution Ship\n",
      "481             The USS Constitution Ship\n",
      "482             The USS Constitution Ship\n",
      "483             The USS Constitution Ship\n",
      "484             The USS Constitution Ship\n",
      "485             The USS Constitution Ship\n",
      "486             The USS Constitution Ship\n",
      "487             The USS Constitution Ship\n",
      "488             The USS Constitution Ship\n",
      "489                       1982 Camaro Z28\n",
      "490                       1982 Camaro Z28\n",
      "491                       1982 Camaro Z28\n",
      "492                       1982 Camaro Z28\n",
      "493                       1982 Camaro Z28\n",
      "494                       1982 Camaro Z28\n",
      "495                       1982 Camaro Z28\n",
      "496                       1982 Camaro Z28\n",
      "497                       1982 Camaro Z28\n",
      "498             American Airlines: MD-11S\n",
      "499             American Airlines: MD-11S\n",
      "\n",
      "[500 rows x 1 columns]\n"
     ]
    }
   ],
   "source": [
    "sold_2x = pd.read_sql_query(\"SELECT productName FROM products INNER JOIN orderdetails ON products.productCode = orderdetails.productCode WHERE priceEach >= buyPrice * 2\", conn)\n",
    "print (sold_2x)"
   ]
  },
  {
   "cell_type": "markdown",
   "metadata": {},
   "source": [
    "7. List the products ordered on a Monday."
   ]
  },
  {
   "cell_type": "code",
   "execution_count": 18,
   "metadata": {},
   "outputs": [
    {
     "name": "stdout",
     "output_type": "stream",
     "text": [
      "                               productName     Day\n",
      "0    1969 Harley Davidson Ultimate Chopper  Monday\n",
      "1    1969 Harley Davidson Ultimate Chopper  Monday\n",
      "2    1969 Harley Davidson Ultimate Chopper  Monday\n",
      "3    1969 Harley Davidson Ultimate Chopper  Monday\n",
      "4    1969 Harley Davidson Ultimate Chopper  Monday\n",
      "5    1969 Harley Davidson Ultimate Chopper  Monday\n",
      "6                 1952 Alpine Renault 1300  Monday\n",
      "7                 1952 Alpine Renault 1300  Monday\n",
      "8                 1952 Alpine Renault 1300  Monday\n",
      "9                 1952 Alpine Renault 1300  Monday\n",
      "10                1952 Alpine Renault 1300  Monday\n",
      "11                   1996 Moto Guzzi 1100i  Monday\n",
      "12                   1996 Moto Guzzi 1100i  Monday\n",
      "13                   1996 Moto Guzzi 1100i  Monday\n",
      "14                   1996 Moto Guzzi 1100i  Monday\n",
      "15                   1996 Moto Guzzi 1100i  Monday\n",
      "16                   1996 Moto Guzzi 1100i  Monday\n",
      "17                   1996 Moto Guzzi 1100i  Monday\n",
      "18    2003 Harley-Davidson Eagle Drag Bike  Monday\n",
      "19    2003 Harley-Davidson Eagle Drag Bike  Monday\n",
      "20    2003 Harley-Davidson Eagle Drag Bike  Monday\n",
      "21    2003 Harley-Davidson Eagle Drag Bike  Monday\n",
      "22    2003 Harley-Davidson Eagle Drag Bike  Monday\n",
      "23    2003 Harley-Davidson Eagle Drag Bike  Monday\n",
      "24    2003 Harley-Davidson Eagle Drag Bike  Monday\n",
      "25                     1972 Alfa Romeo GTA  Monday\n",
      "26                     1972 Alfa Romeo GTA  Monday\n",
      "27                     1972 Alfa Romeo GTA  Monday\n",
      "28                     1972 Alfa Romeo GTA  Monday\n",
      "29                  1962 LanciaA Delta 16V  Monday\n",
      "..                                     ...     ...\n",
      "377                          ATA: B757-300  Monday\n",
      "378                          ATA: B757-300  Monday\n",
      "379                          ATA: B757-300  Monday\n",
      "380                     F/A 18 Hornet 1/72  Monday\n",
      "381                     F/A 18 Hornet 1/72  Monday\n",
      "382                     F/A 18 Hornet 1/72  Monday\n",
      "383                     F/A 18 Hornet 1/72  Monday\n",
      "384                     F/A 18 Hornet 1/72  Monday\n",
      "385                            The Titanic  Monday\n",
      "386                            The Titanic  Monday\n",
      "387                            The Titanic  Monday\n",
      "388                         The Queen Mary  Monday\n",
      "389                         The Queen Mary  Monday\n",
      "390              American Airlines: MD-11S  Monday\n",
      "391              American Airlines: MD-11S  Monday\n",
      "392              American Airlines: MD-11S  Monday\n",
      "393              American Airlines: MD-11S  Monday\n",
      "394              American Airlines: MD-11S  Monday\n",
      "395              American Airlines: MD-11S  Monday\n",
      "396              American Airlines: MD-11S  Monday\n",
      "397                       Boeing X-32A JSF  Monday\n",
      "398                       Boeing X-32A JSF  Monday\n",
      "399                       Boeing X-32A JSF  Monday\n",
      "400                       Boeing X-32A JSF  Monday\n",
      "401                       Boeing X-32A JSF  Monday\n",
      "402                       Boeing X-32A JSF  Monday\n",
      "403                       Boeing X-32A JSF  Monday\n",
      "404                       Boeing X-32A JSF  Monday\n",
      "405                             Pont Yacht  Monday\n",
      "406                             Pont Yacht  Monday\n",
      "\n",
      "[407 rows x 2 columns]\n"
     ]
    }
   ],
   "source": [
    "monday_order = pd.read_sql_query(\"SELECT productName, DATE_FORMAT(orderDate, '%W') AS Day FROM products INNER JOIN orderdetails ON products.productCode = orderdetails.productCode INNER JOIN orders ON orderdetails.orderNumber = orders.orderNumber HAVING Day = 'Monday'\", conn)\n",
    "print (monday_order)"
   ]
  },
  {
   "cell_type": "markdown",
   "metadata": {},
   "source": [
    "8. What is the quantity on hand for products listed on 'On Hold' orders?"
   ]
  },
  {
   "cell_type": "code",
   "execution_count": 19,
   "metadata": {},
   "outputs": [
    {
     "name": "stdout",
     "output_type": "stream",
     "text": [
      "    quantityInStock\n",
      "0              6791\n",
      "1              8258\n",
      "2              2018\n",
      "3              8347\n",
      "4              3128\n",
      "5              2327\n",
      "6               992\n",
      "7              3627\n",
      "8              6812\n",
      "9              2756\n",
      "10              178\n",
      "11              136\n",
      "12             7062\n",
      "13             5841\n",
      "14             9653\n",
      "15             7106\n",
      "16              551\n",
      "17             8820\n",
      "18             9042\n",
      "19             2724\n",
      "20              540\n",
      "21             8164\n",
      "22             6553\n",
      "23             3209\n",
      "24             1005\n",
      "25             8197\n",
      "26             2350\n",
      "27             1452\n",
      "28             4695\n",
      "29             9446\n",
      "30             3252\n",
      "31             4259\n",
      "32             3913\n",
      "33             6450\n",
      "34             8290\n",
      "35             1898\n",
      "36             9173\n",
      "37             6621\n",
      "38             1897\n",
      "39              737\n",
      "40             7083\n",
      "41             1956\n",
      "42             5088\n",
      "43              414\n"
     ]
    }
   ],
   "source": [
    "on_hold_quantity = pd.read_sql_query(\"SELECT quantityInStock FROM products INNER JOIN orderdetails ON products.productCode = orderdetails.productCode INNER JOIN orders ON orderdetails.orderNumber = orders.orderNumber WHERE status = 'On Hold'\", conn)\n",
    "print (on_hold_quantity)"
   ]
  }
 ],
 "metadata": {
  "kernelspec": {
   "display_name": "Python 3",
   "language": "python",
   "name": "python3"
  },
  "language_info": {
   "codemirror_mode": {
    "name": "ipython",
    "version": 3
   },
   "file_extension": ".py",
   "mimetype": "text/x-python",
   "name": "python",
   "nbconvert_exporter": "python",
   "pygments_lexer": "ipython3",
   "version": "3.7.0"
  }
 },
 "nbformat": 4,
 "nbformat_minor": 2
}
