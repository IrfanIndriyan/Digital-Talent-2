{
 "cells": [
  {
   "cell_type": "markdown",
   "metadata": {},
   "source": [
    "# Latihan 1\n",
    "\n",
    "Single Entity\n",
    "1. Prepare a list of offices sorted by country, state, city.\n",
    "2. How many employees are there in the company?\n",
    "3. What is the total of payments received?\n",
    "4. List the product lines that contain 'Cars'.\n",
    "5. Report total payments for October 28, 2004.\n",
    "6. Report those payments greater than \\$100,000.\n",
    "7. List the products in each product line.\n",
    "8. How many products in each product line?\n",
    "9. What is the minimum payment received?\n",
    "10. List all payments greater than twice the average payment.\n",
    "11. What is the average percentage markup of the MSRP on buyPrice?\n",
    "12. How many distinct products does ClassicModels sell?\n",
    "13. Report the name and city of customers who don't have sales representatives?\n",
    "14. What are the names of executives with VP or Manager in their title? Use the CONCAT function to combine the employee's first name and last name into a single field for reporting.\n",
    "15. Which orders have a value greater than $5,000?\n",
    "------\n",
    "### Answer\n",
    "\n",
    "Preparing MySQL conncetion"
   ]
  },
  {
   "cell_type": "code",
   "execution_count": 7,
   "metadata": {},
   "outputs": [],
   "source": [
    "import mysql.connector\n",
    "import pandas as pd\n",
    "\n",
    "user = \"root\"\n",
    "passwd = \"root\"\n",
    "host = \"127.0.0.1\"\n",
    "database = \"classicmodels\"\n",
    "\n",
    "conn = mysql.connector.connect(user=user, password=passwd,\n",
    "                              host=host,\n",
    "                              database=database)"
   ]
  },
  {
   "cell_type": "markdown",
   "metadata": {},
   "source": [
    "1. List of offices sorted by country, state, and city."
   ]
  },
  {
   "cell_type": "markdown",
   "metadata": {},
   "source": [
    "list_of_offices = pd.read_sql_query(\"SELECT * FROM offices ORDER BY country, state, city\", conn)\n",
    "print (list_of_offices)"
   ]
  },
  {
   "cell_type": "markdown",
   "metadata": {},
   "source": [
    "2. How many employees are there in the company?"
   ]
  },
  {
   "cell_type": "code",
   "execution_count": 11,
   "metadata": {},
   "outputs": [
    {
     "name": "stdout",
     "output_type": "stream",
     "text": [
      "   Total_Employees\n",
      "0               23\n"
     ]
    }
   ],
   "source": [
    "total_employees = pd.read_sql_query(\"SELECT COUNT(employeeNumber) AS Total_Employees FROM employees\", conn)\n",
    "print (total_employees)"
   ]
  },
  {
   "cell_type": "markdown",
   "metadata": {},
   "source": [
    "3. What is the total of payments received?"
   ]
  },
  {
   "cell_type": "code",
   "execution_count": 13,
   "metadata": {},
   "outputs": [
    {
     "name": "stdout",
     "output_type": "stream",
     "text": [
      "     Received\n",
      "0  8853839.23\n"
     ]
    }
   ],
   "source": [
    "received_payments = pd.read_sql_query(\"SELECT SUM(amount) AS Received FROM payments\", conn)\n",
    "print (received_payments)"
   ]
  },
  {
   "cell_type": "markdown",
   "metadata": {},
   "source": [
    "4. List the product lines that contain 'Cars'."
   ]
  },
  {
   "cell_type": "code",
   "execution_count": 16,
   "metadata": {},
   "outputs": [
    {
     "name": "stdout",
     "output_type": "stream",
     "text": [
      "    productLine\n",
      "0  Classic Cars\n",
      "1  Vintage Cars\n"
     ]
    }
   ],
   "source": [
    "cars_product = pd.read_sql_query(\"SELECT productLine FROM productlines WHERE productLine LIKE '%Cars%'\", conn)\n",
    "print (cars_product)"
   ]
  },
  {
   "cell_type": "markdown",
   "metadata": {},
   "source": [
    "5. Report total payments for October 28, 2004."
   ]
  },
  {
   "cell_type": "code",
   "execution_count": 18,
   "metadata": {},
   "outputs": [
    {
     "name": "stdout",
     "output_type": "stream",
     "text": [
      "   Total_Payment\n",
      "0       47411.33\n"
     ]
    }
   ],
   "source": [
    "payment_at_28_10_2004 = pd.read_sql_query(\"SELECT SUM(amount) AS Total_Payment FROM payments WHERE paymentDate = '2004-10-28'\", conn)\n",
    "print (payment_at_28_10_2004)"
   ]
  },
  {
   "cell_type": "markdown",
   "metadata": {},
   "source": [
    "6. Report those payments greater than $100,000."
   ]
  },
  {
   "cell_type": "code",
   "execution_count": 30,
   "metadata": {},
   "outputs": [
    {
     "name": "stdout",
     "output_type": "stream",
     "text": [
      "   customerNumber checkNumber paymentDate     amount\n",
      "0             124    AE215433  2005-03-05  101244.59\n",
      "1             124    KI131716  2003-08-15  111654.40\n",
      "2             141     ID10962  2004-12-31  116208.40\n",
      "3             141    JE105477  2005-03-18  120166.58\n",
      "4             148    KM172879  2003-12-26  105743.00\n"
     ]
    }
   ],
   "source": [
    "payment_100 = pd.read_sql_query(\"SELECT * FROM payments WHERE amount > 100000\", conn)\n",
    "print (payment_100_bucks)"
   ]
  },
  {
   "cell_type": "markdown",
   "metadata": {},
   "source": [
    "7. List the products in each product line."
   ]
  },
  {
   "cell_type": "code",
   "execution_count": 21,
   "metadata": {},
   "outputs": [
    {
     "name": "stdout",
     "output_type": "stream",
     "text": [
      "          productLine                                  productName\n",
      "0        Classic Cars                     1952 Alpine Renault 1300\n",
      "1        Classic Cars                          1972 Alfa Romeo GTA\n",
      "2        Classic Cars                       1962 LanciaA Delta 16V\n",
      "3        Classic Cars                            1968 Ford Mustang\n",
      "4        Classic Cars                            2001 Ferrari Enzo\n",
      "5        Classic Cars                           1969 Corvair Monza\n",
      "6        Classic Cars                           1968 Dodge Charger\n",
      "7        Classic Cars                             1969 Ford Falcon\n",
      "8        Classic Cars                      1970 Plymouth Hemi Cuda\n",
      "9        Classic Cars                           1969 Dodge Charger\n",
      "10       Classic Cars                              1993 Mazda RX-7\n",
      "11       Classic Cars                        1965 Aston Martin DB5\n",
      "12       Classic Cars                  1948 Porsche 356-A Roadster\n",
      "13       Classic Cars                             1995 Honda Civic\n",
      "14       Classic Cars               1998 Chrysler Plymouth Prowler\n",
      "15       Classic Cars                 1999 Indy 500 Monte Carlo SS\n",
      "16       Classic Cars                  1992 Ferrari 360 Spider red\n",
      "17       Classic Cars                            1985 Toyota Supra\n",
      "18       Classic Cars                         1969 Dodge Super Bee\n",
      "19       Classic Cars                        1976 Ford Gran Torino\n",
      "20       Classic Cars               1948 Porsche Type 356 Roadster\n",
      "21       Classic Cars                        1970 Triumph Spitfire\n",
      "22       Classic Cars                    1957 Corvette Convertible\n",
      "23       Classic Cars                        1957 Ford Thunderbird\n",
      "24       Classic Cars                   1970 Chevy Chevelle SS 454\n",
      "25       Classic Cars                           1970 Dodge Coronet\n",
      "26       Classic Cars                    1966 Shelby Cobra 427 S/C\n",
      "27       Classic Cars                           1949 Jaguar XK 120\n",
      "28       Classic Cars          1958 Chevy Corvette Limited Edition\n",
      "29       Classic Cars                            1952 Citroen-15CV\n",
      "..                ...                                          ...\n",
      "80   Trucks and Buses                             1940s Ford truck\n",
      "81   Trucks and Buses                     1962 Volkswagen Microbus\n",
      "82   Trucks and Buses                  1980’s GM Manhattan Express\n",
      "83   Trucks and Buses                  1954 Greyhound Scenicruiser\n",
      "84   Trucks and Buses  1996 Peterbilt 379 Stake Bed with Outrigger\n",
      "85   Trucks and Buses             Diamond T620 Semi-Skirted Tanker\n",
      "86       Vintage Cars                         1937 Lincoln Berline\n",
      "87       Vintage Cars     1936 Mercedes-Benz 500K Special Roadster\n",
      "88       Vintage Cars                     1917 Grand Touring Sedan\n",
      "89       Vintage Cars                           1911 Ford Town Car\n",
      "90       Vintage Cars                    1932 Model A Ford J-Coupe\n",
      "91       Vintage Cars                       1928 Mercedes-Benz SSK\n",
      "92       Vintage Cars                  1913 Ford Model T Speedster\n",
      "93       Vintage Cars                           1934 Ford V8 Coupe\n",
      "94       Vintage Cars          18th Century Vintage Horse Carriage\n",
      "95       Vintage Cars                            1903 Ford Model A\n",
      "96       Vintage Cars                     1917 Maxwell Touring Car\n",
      "97       Vintage Cars      1941 Chevrolet Special Deluxe Cabriolet\n",
      "98       Vintage Cars          1932 Alfa Romeo 8C2300 Spider Sport\n",
      "99       Vintage Cars                          1904 Buick Runabout\n",
      "100      Vintage Cars                      1939 Cadillac Limousine\n",
      "101      Vintage Cars                  1939 Chevrolet Deluxe Coupe\n",
      "102      Vintage Cars    1938 Cadillac V-16 Presidential Limousine\n",
      "103      Vintage Cars             1912 Ford Model T Delivery Wagon\n",
      "104      Vintage Cars                    1937 Horch 930V Limousine\n",
      "105      Vintage Cars                     1940 Ford Delivery Sedan\n",
      "106      Vintage Cars             1936 Mercedes Benz 500k Roadster\n",
      "107      Vintage Cars                        1936 Chrysler Airflow\n",
      "108      Vintage Cars                     1928 Ford Phaeton Deluxe\n",
      "109      Vintage Cars                 1930 Buick Marquette Phaeton\n",
      "\n",
      "[110 rows x 2 columns]\n"
     ]
    }
   ],
   "source": [
    "products = pd.read_sql_query(\"SELECT productLine, productName FROM products ORDER BY productLine\", conn)\n",
    "print (products)"
   ]
  },
  {
   "cell_type": "markdown",
   "metadata": {},
   "source": [
    "8. How many products in each product line?"
   ]
  },
  {
   "cell_type": "code",
   "execution_count": 23,
   "metadata": {},
   "outputs": [
    {
     "name": "stdout",
     "output_type": "stream",
     "text": [
      "        productLine  Items\n",
      "0      Classic Cars     38\n",
      "1       Motorcycles     13\n",
      "2            Planes     12\n",
      "3             Ships      9\n",
      "4            Trains      3\n",
      "5  Trucks and Buses     11\n",
      "6      Vintage Cars     24\n"
     ]
    }
   ],
   "source": [
    "product_line_items = pd.read_sql_query(\"SELECT productLine, COUNT(productName) AS Items FROM products GROUP BY productLine\", conn)\n",
    "print (product_line_items)"
   ]
  },
  {
   "cell_type": "markdown",
   "metadata": {},
   "source": [
    "9. What is the minimum payment received?"
   ]
  },
  {
   "cell_type": "code",
   "execution_count": 24,
   "metadata": {},
   "outputs": [
    {
     "name": "stdout",
     "output_type": "stream",
     "text": [
      "   Minimum_Payment\n",
      "0           615.45\n"
     ]
    }
   ],
   "source": [
    "minimum_payment = pd.read_sql_query(\"SELECT MIN(amount) AS Minimum_Payment FROM payments\", conn)\n",
    "print (minimum_payment)"
   ]
  },
  {
   "cell_type": "markdown",
   "metadata": {},
   "source": [
    "10. List all payments greater than twice the average payment."
   ]
  },
  {
   "cell_type": "code",
   "execution_count": 25,
   "metadata": {},
   "outputs": [
    {
     "name": "stdout",
     "output_type": "stream",
     "text": [
      "       amount\n",
      "0    82261.22\n",
      "1   101244.59\n",
      "2    85410.87\n",
      "3    83598.04\n",
      "4   111654.40\n",
      "5   116208.40\n",
      "6    65071.26\n",
      "7   120166.58\n",
      "8   105743.00\n",
      "9    85024.46\n",
      "10   80375.24\n",
      "11   85559.12\n",
      "12   75020.13\n"
     ]
    }
   ],
   "source": [
    "payment_2avg = pd.read_sql_query(\"SELECT amount FROM payments WHERE amount > ( SELECT AVG(amount) * 2 FROM payments )\", conn)\n",
    "print (payment_2avg)"
   ]
  },
  {
   "cell_type": "markdown",
   "metadata": {},
   "source": [
    "11. What is the average percentage markup of the MSRP on buyPrice?"
   ]
  },
  {
   "cell_type": "code",
   "execution_count": 32,
   "metadata": {},
   "outputs": [
    {
     "name": "stdout",
     "output_type": "stream",
     "text": [
      "   Markup_AVG\n",
      "0   88.702392\n"
     ]
    }
   ],
   "source": [
    "avg_perc_markup = pd.read_sql_query(\"SELECT AVG((MSRP - buyPrice) / buyPrice * 100) AS Markup_AVG FROM products\", conn)\n",
    "print (avg_perc_markup)"
   ]
  },
  {
   "cell_type": "markdown",
   "metadata": {},
   "source": [
    "12. How many distinct products does ClassicModels sell?"
   ]
  },
  {
   "cell_type": "code",
   "execution_count": 27,
   "metadata": {},
   "outputs": [
    {
     "name": "stdout",
     "output_type": "stream",
     "text": [
      "   Produk\n",
      "0     110\n"
     ]
    }
   ],
   "source": [
    "items = pd.read_sql_query(\"SELECT COUNT(DISTINCT(productName)) AS Produk FROM products\", conn)\n",
    "print (items)"
   ]
  },
  {
   "cell_type": "markdown",
   "metadata": {},
   "source": [
    "13. Report the name and city of customers who don't have sales representatives?"
   ]
  },
  {
   "cell_type": "code",
   "execution_count": 28,
   "metadata": {},
   "outputs": [
    {
     "name": "stdout",
     "output_type": "stream",
     "text": [
      "   Produk\n",
      "0     110\n"
     ]
    }
   ],
   "source": [
    "customers_not_sales = pd.read_sql_query(\"SELECT customerName, CONCAT(contactFirstName, contactLastName) AS CP, city FROM customers WHERE salesRepEmployeeNumber IS NULL\", conn)\n",
    "print (items)"
   ]
  },
  {
   "cell_type": "markdown",
   "metadata": {},
   "source": [
    "14. What are the names of executives with VP or Manager in their title? Use the CONCAT function to combine the employee's first name and last name into a single field for reporting."
   ]
  },
  {
   "cell_type": "code",
   "execution_count": 29,
   "metadata": {},
   "outputs": [
    {
     "name": "stdout",
     "output_type": "stream",
     "text": [
      "            FullName\n",
      "0     Mary Patterson\n",
      "1      Jeff Firrelli\n",
      "2  William Patterson\n",
      "3      Gerard Bondur\n",
      "4        Anthony Bow\n"
     ]
    }
   ],
   "source": [
    "executives = pd.read_sql_query('SELECT CONCAT(firstName, \" \", lastName) AS FullName FROM employees WHERE jobTitle LIKE \"%VP%\" OR jobTitle LIKE \"%Manager%\"', conn)\n",
    "print (executives)"
   ]
  },
  {
   "cell_type": "markdown",
   "metadata": {},
   "source": [
    "15. Which orders have a value greater than $5,000?"
   ]
  },
  {
   "cell_type": "code",
   "execution_count": 31,
   "metadata": {},
   "outputs": [
    {
     "name": "stdout",
     "output_type": "stream",
     "text": [
      "     orderNumber  Total_Harga\n",
      "0          10103     12932.73\n",
      "1          10104      9063.73\n",
      "2          10105     13254.39\n",
      "3          10106     13243.28\n",
      "4          10108     11246.46\n",
      "5          10110     11392.76\n",
      "6          10114      5372.00\n",
      "7          10117      9178.29\n",
      "8          10119      8028.36\n",
      "9          10120      9607.93\n",
      "10         10122     13477.83\n",
      "11         10124      7345.33\n",
      "12         10126     14263.89\n",
      "13         10127     11723.76\n",
      "14         10135     12960.78\n",
      "15         10138      7266.43\n",
      "16         10140      6874.56\n",
      "17         10142     14256.89\n",
      "18         10143     11059.54\n",
      "19         10145     12227.07\n",
      "20         10147      6166.72\n",
      "21         10148     11413.26\n",
      "22         10149      5639.86\n",
      "23         10150      6395.68\n",
      "24         10151      5158.04\n",
      "25         10153     10026.93\n",
      "26         10155      7933.42\n",
      "27         10159     16036.73\n",
      "28         10161      8348.88\n",
      "29         10165     16365.89\n",
      "..           ...          ...\n",
      "118        10347      6854.23\n",
      "119        10349      6911.50\n",
      "120        10350     11648.79\n",
      "121        10354      8653.34\n",
      "122        10357      6341.98\n",
      "123        10358     10390.05\n",
      "124        10360     14715.31\n",
      "125        10361      8161.82\n",
      "126        10363      9774.75\n",
      "127        10367      6607.02\n",
      "128        10371      7016.08\n",
      "129        10373     11079.50\n",
      "130        10375     10795.31\n",
      "131        10380      7652.62\n",
      "132        10382     10556.51\n",
      "133        10383      8166.96\n",
      "134        10386     12578.82\n",
      "135        10390     12900.58\n",
      "136        10391      5248.61\n",
      "137        10393      7049.73\n",
      "138        10398     13837.15\n",
      "139        10401      5583.03\n",
      "140        10407      7156.94\n",
      "141        10411      5028.96\n",
      "142        10412      6205.86\n",
      "143        10414      9009.82\n",
      "144        10416      8309.17\n",
      "145        10419     10659.93\n",
      "146        10420      7200.61\n",
      "147        10425      9016.55\n",
      "\n",
      "[148 rows x 2 columns]\n"
     ]
    }
   ],
   "source": [
    "order_5 = pd.read_sql_query(\"SELECT DISTINCT(orderNumber), SUM(priceEach * orderLineNumber) AS Total_Harga FROM orderdetails GROUP BY orderNumber HAVING Total_Harga > 5000\", conn)\n",
    "print (order_5)"
   ]
  },
  {
   "cell_type": "code",
   "execution_count": null,
   "metadata": {},
   "outputs": [],
   "source": []
  }
 ],
 "metadata": {
  "kernelspec": {
   "display_name": "Python 3",
   "language": "python",
   "name": "python3"
  },
  "language_info": {
   "codemirror_mode": {
    "name": "ipython",
    "version": 3
   },
   "file_extension": ".py",
   "mimetype": "text/x-python",
   "name": "python",
   "nbconvert_exporter": "python",
   "pygments_lexer": "ipython3",
   "version": "3.7.0"
  }
 },
 "nbformat": 4,
 "nbformat_minor": 2
}
